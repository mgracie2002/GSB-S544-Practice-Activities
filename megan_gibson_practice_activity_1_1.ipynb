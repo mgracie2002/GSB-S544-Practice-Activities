{
 "cells": [
  {
   "cell_type": "markdown",
   "id": "e5a71b36-ec3a-45e1-a16b-cd5585bf010b",
   "metadata": {
    "id": "7c0dd8d6"
   },
   "source": [
    "---\n",
    "self-contained: true\n",
    "title: Introduction to Jupyter Notebooks\n",
    "format:\n",
    "    html:\n",
    "        theme: default\n",
    "---"
   ]
  },
  {
   "cell_type": "markdown",
   "id": "KLiOv05-tcm7",
   "metadata": {
    "id": "KLiOv05-tcm7"
   },
   "source": [
    "This notebook is composed of many *chunks*, containing either python code or formatted text.  In this activity you will practice both.  Make sure to always run each code chunk once as you work past it."
   ]
  },
  {
   "cell_type": "markdown",
   "id": "kZcVtNnqtHRU",
   "metadata": {
    "id": "kZcVtNnqtHRU"
   },
   "source": [
    "*Get in a group of 3-4 people.  You should each fill out your own copy of this notebook.*"
   ]
  },
  {
   "cell_type": "code",
   "execution_count": 1,
   "id": "libraries-py",
   "metadata": {
    "id": "libraries-py"
   },
   "outputs": [],
   "source": [
    "#| label: libraries-py\n",
    "#| include: false\n",
    "import matplotlib.pyplot as plt"
   ]
  },
  {
   "cell_type": "markdown",
   "id": "89613630",
   "metadata": {
    "id": "89613630"
   },
   "source": [
    "1.  Write the names of your group members below, as a bullet point list.\n",
    "\n",
    "\n",
    "\n",
    "2.  Find something that all of you enjoy for fun. Insert a related picture or meme below.\n",
    "\n",
    "3.  Everyone decide your comfort level on a scale of 1-10 in python, and your favorite colors from [this](https://matplotlib.org/stable/gallery/color/named_colors.html) list.\n",
    "\n",
    "Edit the code below so that it has your names and corresponding comfort levels."
   ]
  },
  {
   "cell_type": "markdown",
   "id": "HuAqknxnpgcb",
   "metadata": {
    "id": "HuAqknxnpgcb"
   },
   "source": [
    "(1)\n",
    "*   Megan\n",
    "*   Chloe\n",
    "*   Summer\n",
    "*   Stolie\n",
    "\n",
    "(2) Hiking\n",
    "\n",
    "![Hiking](hiking.jpeg)\n",
    "\n",
    "(3) Comfort Levels: 3, 2, 2, 2\n",
    "\n",
    "Favorite Colors: violet, dodgerblue, royalblue, lightskyblue\n",
    "\n"
   ]
  },
  {
   "cell_type": "code",
   "execution_count": 6,
   "id": "group_info-py",
   "metadata": {
    "id": "group_info-py"
   },
   "outputs": [],
   "source": [
    "#| label: group_info-py\n",
    "group_data = {\n",
    "  'names': [\"Megan\", \"Chloe\", \"Summer\", \"Stolie\"],\n",
    "  'colors': [\"violet\", \"dodgerblue\", \"royalblue\", \"lightskyblue\"],\n",
    "  'comfort': [3, 2, 2, 2]\n",
    "  }"
   ]
  },
  {
   "cell_type": "markdown",
   "id": "f8ac1475",
   "metadata": {
    "id": "f8ac1475"
   },
   "source": [
    "4.  Click \"Run\" on the code chunk below and see the plot that is produced.\n",
    "\n",
    "(Do not edit the code below!)"
   ]
  },
  {
   "cell_type": "code",
   "execution_count": 7,
   "id": "plot-py",
   "metadata": {
    "colab": {
     "base_uri": "https://localhost:8080/",
     "height": 430
    },
    "id": "plot-py",
    "outputId": "21b1a23d-190b-46a8-bdf0-9f4c528473fd"
   },
   "outputs": [
    {
     "data": {
      "image/png": "[encoded data removed]",
      "text/plain": [
       "<Figure size 640x480 with 1 Axes>"
      ]
     },
     "metadata": {},
     "output_type": "display_data"
    }
   ],
   "source": [
    "#| label: plot-py\n",
    "#| fig-cap: Our comfort levels with python\n",
    "\n",
    "plt.bar(x = group_data['names'], height = group_data['comfort'], color = group_data['colors'])\n",
    "plt.ylabel(\"Comfort with python\")\n",
    "plt.show()"
   ]
  }
 ],
 "metadata": {
  "colab": {
   "provenance": []
  },
  "kernelspec": {
   "display_name": "Python 3 (ipykernel)",
   "language": "python",
   "name": "python3"
  },
  "language_info": {
   "codemirror_mode": {
    "name": "ipython",
    "version": 3
   },
   "file_extension": ".py",
   "mimetype": "text/x-python",
   "name": "python",
   "nbconvert_exporter": "python",
   "pygments_lexer": "ipython3",
   "version": "3.11.4"
  }
 },
 "nbformat": 4,
 "nbformat_minor": 5
}
