{
  "cells": [
    {
      "cell_type": "raw",
      "metadata": {
        "vscode": {
          "languageId": "raw"
        }
      },
      "source": [
        "---\n",
        "title: Cross-Validation and Tuning (Practice Activity 7.1)\n",
        "author: Megan Gibson\n",
        "format:\n",
        "    html:\n",
        "        toc: true\n",
        "        theme: default\n",
        "embed-resources: true\n",
        "---"
      ]
    },
    {
      "cell_type": "code",
      "execution_count": null,
      "metadata": {
        "colab": {
          "base_uri": "https://localhost:8080/",
          "height": 273
        },
        "id": "G_M2G3DgjrqU",
        "outputId": "ae2bed75-a381-4f98-9689-29be06a0ed65"
      },
      "outputs": [
        {
          "data": {
            "application/vnd.google.colaboratory.intrinsic+json": {
              "type": "dataframe",
              "variable_name": "ames"
            },
            "text/html": [
              "\n",
              "  <div id=\"df-cb5978fe-db31-4b26-b30f-a7a9abf9ff07\" class=\"colab-df-container\">\n",
              "    <div>\n",
              "<style scoped>\n",
              "    .dataframe tbody tr th:only-of-type {\n",
              "        vertical-align: middle;\n",
              "    }\n",
              "\n",
              "    .dataframe tbody tr th {\n",
              "        vertical-align: top;\n",
              "    }\n",
              "\n",
              "    .dataframe thead th {\n",
              "        text-align: right;\n",
              "    }\n",
              "</style>\n",
              "<table border=\"1\" class=\"dataframe\">\n",
              "  <thead>\n",
              "    <tr style=\"text-align: right;\">\n",
              "      <th></th>\n",
              "      <th>Order</th>\n",
              "      <th>PID</th>\n",
              "      <th>MS SubClass</th>\n",
              "      <th>MS Zoning</th>\n",
              "      <th>Lot Frontage</th>\n",
              "      <th>Lot Area</th>\n",
              "      <th>Street</th>\n",
              "      <th>Alley</th>\n",
              "      <th>Lot Shape</th>\n",
              "      <th>Land Contour</th>\n",
              "      <th>...</th>\n",
              "      <th>Pool Area</th>\n",
              "      <th>Pool QC</th>\n",
              "      <th>Fence</th>\n",
              "      <th>Misc Feature</th>\n",
              "      <th>Misc Val</th>\n",
              "      <th>Mo Sold</th>\n",
              "      <th>Yr Sold</th>\n",
              "      <th>Sale Type</th>\n",
              "      <th>Sale Condition</th>\n",
              "      <th>SalePrice</th>\n",
              "    </tr>\n",
              "  </thead>\n",
              "  <tbody>\n",
              "    <tr>\n",
              "      <th>0</th>\n",
              "      <td>1</td>\n",
              "      <td>526301100</td>\n",
              "      <td>20</td>\n",
              "      <td>RL</td>\n",
              "      <td>141.0</td>\n",
              "      <td>31770</td>\n",
              "      <td>Pave</td>\n",
              "      <td>NaN</td>\n",
              "      <td>IR1</td>\n",
              "      <td>Lvl</td>\n",
              "      <td>...</td>\n",
              "      <td>0</td>\n",
              "      <td>NaN</td>\n",
              "      <td>NaN</td>\n",
              "      <td>NaN</td>\n",
              "      <td>0</td>\n",
              "      <td>5</td>\n",
              "      <td>2010</td>\n",
              "      <td>WD</td>\n",
              "      <td>Normal</td>\n",
              "      <td>215000</td>\n",
              "    </tr>\n",
              "    <tr>\n",
              "      <th>1</th>\n",
              "      <td>2</td>\n",
              "      <td>526350040</td>\n",
              "      <td>20</td>\n",
              "      <td>RH</td>\n",
              "      <td>80.0</td>\n",
              "      <td>11622</td>\n",
              "      <td>Pave</td>\n",
              "      <td>NaN</td>\n",
              "      <td>Reg</td>\n",
              "      <td>Lvl</td>\n",
              "      <td>...</td>\n",
              "      <td>0</td>\n",
              "      <td>NaN</td>\n",
              "      <td>MnPrv</td>\n",
              "      <td>NaN</td>\n",
              "      <td>0</td>\n",
              "      <td>6</td>\n",
              "      <td>2010</td>\n",
              "      <td>WD</td>\n",
              "      <td>Normal</td>\n",
              "      <td>105000</td>\n",
              "    </tr>\n",
              "    <tr>\n",
              "      <th>2</th>\n",
              "      <td>3</td>\n",
              "      <td>526351010</td>\n",
              "      <td>20</td>\n",
              "      <td>RL</td>\n",
              "      <td>81.0</td>\n",
              "      <td>14267</td>\n",
              "      <td>Pave</td>\n",
              "      <td>NaN</td>\n",
              "      <td>IR1</td>\n",
              "      <td>Lvl</td>\n",
              "      <td>...</td>\n",
              "      <td>0</td>\n",
              "      <td>NaN</td>\n",
              "      <td>NaN</td>\n",
              "      <td>Gar2</td>\n",
              "      <td>12500</td>\n",
              "      <td>6</td>\n",
              "      <td>2010</td>\n",
              "      <td>WD</td>\n",
              "      <td>Normal</td>\n",
              "      <td>172000</td>\n",
              "    </tr>\n",
              "    <tr>\n",
              "      <th>3</th>\n",
              "      <td>4</td>\n",
              "      <td>526353030</td>\n",
              "      <td>20</td>\n",
              "      <td>RL</td>\n",
              "      <td>93.0</td>\n",
              "      <td>11160</td>\n",
              "      <td>Pave</td>\n",
              "      <td>NaN</td>\n",
              "      <td>Reg</td>\n",
              "      <td>Lvl</td>\n",
              "      <td>...</td>\n",
              "      <td>0</td>\n",
              "      <td>NaN</td>\n",
              "      <td>NaN</td>\n",
              "      <td>NaN</td>\n",
              "      <td>0</td>\n",
              "      <td>4</td>\n",
              "      <td>2010</td>\n",
              "      <td>WD</td>\n",
              "      <td>Normal</td>\n",
              "      <td>244000</td>\n",
              "    </tr>\n",
              "    <tr>\n",
              "      <th>4</th>\n",
              "      <td>5</td>\n",
              "      <td>527105010</td>\n",
              "      <td>60</td>\n",
              "      <td>RL</td>\n",
              "      <td>74.0</td>\n",
              "      <td>13830</td>\n",
              "      <td>Pave</td>\n",
              "      <td>NaN</td>\n",
              "      <td>IR1</td>\n",
              "      <td>Lvl</td>\n",
              "      <td>...</td>\n",
              "      <td>0</td>\n",
              "      <td>NaN</td>\n",
              "      <td>MnPrv</td>\n",
              "      <td>NaN</td>\n",
              "      <td>0</td>\n",
              "      <td>3</td>\n",
              "      <td>2010</td>\n",
              "      <td>WD</td>\n",
              "      <td>Normal</td>\n",
              "      <td>189900</td>\n",
              "    </tr>\n",
              "  </tbody>\n",
              "</table>\n",
              "<p>5 rows × 82 columns</p>\n",
              "</div>\n",
              "    <div class=\"colab-df-buttons\">\n",
              "\n",
              "  <div class=\"colab-df-container\">\n",
              "    <button class=\"colab-df-convert\" onclick=\"convertToInteractive('df-cb5978fe-db31-4b26-b30f-a7a9abf9ff07')\"\n",
              "            title=\"Convert this dataframe to an interactive table.\"\n",
              "            style=\"display:none;\">\n",
              "\n",
              "  <svg xmlns=\"http://www.w3.org/2000/svg\" height=\"24px\" viewBox=\"0 -960 960 960\">\n",
              "    <path d=\"M120-120v-720h720v720H120Zm60-500h600v-160H180v160Zm220 220h160v-160H400v160Zm0 220h160v-160H400v160ZM180-400h160v-160H180v160Zm440 0h160v-160H620v160ZM180-180h160v-160H180v160Zm440 0h160v-160H620v160Z\"/>\n",
              "  </svg>\n",
              "    </button>\n",
              "\n",
              "  <style>\n",
              "    .colab-df-container {\n",
              "      display:flex;\n",
              "      gap: 12px;\n",
              "    }\n",
              "\n",
              "    .colab-df-convert {\n",
              "      background-color: #E8F0FE;\n",
              "      border: none;\n",
              "      border-radius: 50%;\n",
              "      cursor: pointer;\n",
              "      display: none;\n",
              "      fill: #1967D2;\n",
              "      height: 32px;\n",
              "      padding: 0 0 0 0;\n",
              "      width: 32px;\n",
              "    }\n",
              "\n",
              "    .colab-df-convert:hover {\n",
              "      background-color: #E2EBFA;\n",
              "      box-shadow: 0px 1px 2px rgba(60, 64, 67, 0.3), 0px 1px 3px 1px rgba(60, 64, 67, 0.15);\n",
              "      fill: #174EA6;\n",
              "    }\n",
              "\n",
              "    .colab-df-buttons div {\n",
              "      margin-bottom: 4px;\n",
              "    }\n",
              "\n",
              "    [theme=dark] .colab-df-convert {\n",
              "      background-color: #3B4455;\n",
              "      fill: #D2E3FC;\n",
              "    }\n",
              "\n",
              "    [theme=dark] .colab-df-convert:hover {\n",
              "      background-color: #434B5C;\n",
              "      box-shadow: 0px 1px 3px 1px rgba(0, 0, 0, 0.15);\n",
              "      filter: drop-shadow(0px 1px 2px rgba(0, 0, 0, 0.3));\n",
              "      fill: #FFFFFF;\n",
              "    }\n",
              "  </style>\n",
              "\n",
              "    <script>\n",
              "      const buttonEl =\n",
              "        document.querySelector('#df-cb5978fe-db31-4b26-b30f-a7a9abf9ff07 button.colab-df-convert');\n",
              "      buttonEl.style.display =\n",
              "        google.colab.kernel.accessAllowed ? 'block' : 'none';\n",
              "\n",
              "      async function convertToInteractive(key) {\n",
              "        const element = document.querySelector('#df-cb5978fe-db31-4b26-b30f-a7a9abf9ff07');\n",
              "        const dataTable =\n",
              "          await google.colab.kernel.invokeFunction('convertToInteractive',\n",
              "                                                    [key], {});\n",
              "        if (!dataTable) return;\n",
              "\n",
              "        const docLinkHtml = 'Like what you see? Visit the ' +\n",
              "          '<a target=\"_blank\" href=https://colab.research.google.com/notebooks/data_table.ipynb>data table notebook</a>'\n",
              "          + ' to learn more about interactive tables.';\n",
              "        element.innerHTML = '';\n",
              "        dataTable['output_type'] = 'display_data';\n",
              "        await google.colab.output.renderOutput(dataTable, element);\n",
              "        const docLink = document.createElement('div');\n",
              "        docLink.innerHTML = docLinkHtml;\n",
              "        element.appendChild(docLink);\n",
              "      }\n",
              "    </script>\n",
              "  </div>\n",
              "\n",
              "\n",
              "<div id=\"df-3be24d0e-cf0c-4cae-a974-1c8e6db1fa7a\">\n",
              "  <button class=\"colab-df-quickchart\" onclick=\"quickchart('df-3be24d0e-cf0c-4cae-a974-1c8e6db1fa7a')\"\n",
              "            title=\"Suggest charts\"\n",
              "            style=\"display:none;\">\n",
              "\n",
              "<svg xmlns=\"http://www.w3.org/2000/svg\" height=\"24px\"viewBox=\"0 0 24 24\"\n",
              "     width=\"24px\">\n",
              "    <g>\n",
              "        <path d=\"M19 3H5c-1.1 0-2 .9-2 2v14c0 1.1.9 2 2 2h14c1.1 0 2-.9 2-2V5c0-1.1-.9-2-2-2zM9 17H7v-7h2v7zm4 0h-2V7h2v10zm4 0h-2v-4h2v4z\"/>\n",
              "    </g>\n",
              "</svg>\n",
              "  </button>\n",
              "\n",
              "<style>\n",
              "  .colab-df-quickchart {\n",
              "      --bg-color: #E8F0FE;\n",
              "      --fill-color: #1967D2;\n",
              "      --hover-bg-color: #E2EBFA;\n",
              "      --hover-fill-color: #174EA6;\n",
              "      --disabled-fill-color: #AAA;\n",
              "      --disabled-bg-color: #DDD;\n",
              "  }\n",
              "\n",
              "  [theme=dark] .colab-df-quickchart {\n",
              "      --bg-color: #3B4455;\n",
              "      --fill-color: #D2E3FC;\n",
              "      --hover-bg-color: #434B5C;\n",
              "      --hover-fill-color: #FFFFFF;\n",
              "      --disabled-bg-color: #3B4455;\n",
              "      --disabled-fill-color: #666;\n",
              "  }\n",
              "\n",
              "  .colab-df-quickchart {\n",
              "    background-color: var(--bg-color);\n",
              "    border: none;\n",
              "    border-radius: 50%;\n",
              "    cursor: pointer;\n",
              "    display: none;\n",
              "    fill: var(--fill-color);\n",
              "    height: 32px;\n",
              "    padding: 0;\n",
              "    width: 32px;\n",
              "  }\n",
              "\n",
              "  .colab-df-quickchart:hover {\n",
              "    background-color: var(--hover-bg-color);\n",
              "    box-shadow: 0 1px 2px rgba(60, 64, 67, 0.3), 0 1px 3px 1px rgba(60, 64, 67, 0.15);\n",
              "    fill: var(--button-hover-fill-color);\n",
              "  }\n",
              "\n",
              "  .colab-df-quickchart-complete:disabled,\n",
              "  .colab-df-quickchart-complete:disabled:hover {\n",
              "    background-color: var(--disabled-bg-color);\n",
              "    fill: var(--disabled-fill-color);\n",
              "    box-shadow: none;\n",
              "  }\n",
              "\n",
              "  .colab-df-spinner {\n",
              "    border: 2px solid var(--fill-color);\n",
              "    border-color: transparent;\n",
              "    border-bottom-color: var(--fill-color);\n",
              "    animation:\n",
              "      spin 1s steps(1) infinite;\n",
              "  }\n",
              "\n",
              "  @keyframes spin {\n",
              "    0% {\n",
              "      border-color: transparent;\n",
              "      border-bottom-color: var(--fill-color);\n",
              "      border-left-color: var(--fill-color);\n",
              "    }\n",
              "    20% {\n",
              "      border-color: transparent;\n",
              "      border-left-color: var(--fill-color);\n",
              "      border-top-color: var(--fill-color);\n",
              "    }\n",
              "    30% {\n",
              "      border-color: transparent;\n",
              "      border-left-color: var(--fill-color);\n",
              "      border-top-color: var(--fill-color);\n",
              "      border-right-color: var(--fill-color);\n",
              "    }\n",
              "    40% {\n",
              "      border-color: transparent;\n",
              "      border-right-color: var(--fill-color);\n",
              "      border-top-color: var(--fill-color);\n",
              "    }\n",
              "    60% {\n",
              "      border-color: transparent;\n",
              "      border-right-color: var(--fill-color);\n",
              "    }\n",
              "    80% {\n",
              "      border-color: transparent;\n",
              "      border-right-color: var(--fill-color);\n",
              "      border-bottom-color: var(--fill-color);\n",
              "    }\n",
              "    90% {\n",
              "      border-color: transparent;\n",
              "      border-bottom-color: var(--fill-color);\n",
              "    }\n",
              "  }\n",
              "</style>\n",
              "\n",
              "  <script>\n",
              "    async function quickchart(key) {\n",
              "      const quickchartButtonEl =\n",
              "        document.querySelector('#' + key + ' button');\n",
              "      quickchartButtonEl.disabled = true;  // To prevent multiple clicks.\n",
              "      quickchartButtonEl.classList.add('colab-df-spinner');\n",
              "      try {\n",
              "        const charts = await google.colab.kernel.invokeFunction(\n",
              "            'suggestCharts', [key], {});\n",
              "      } catch (error) {\n",
              "        console.error('Error during call to suggestCharts:', error);\n",
              "      }\n",
              "      quickchartButtonEl.classList.remove('colab-df-spinner');\n",
              "      quickchartButtonEl.classList.add('colab-df-quickchart-complete');\n",
              "    }\n",
              "    (() => {\n",
              "      let quickchartButtonEl =\n",
              "        document.querySelector('#df-3be24d0e-cf0c-4cae-a974-1c8e6db1fa7a button');\n",
              "      quickchartButtonEl.style.display =\n",
              "        google.colab.kernel.accessAllowed ? 'block' : 'none';\n",
              "    })();\n",
              "  </script>\n",
              "</div>\n",
              "\n",
              "    </div>\n",
              "  </div>\n"
            ],
            "text/plain": [
              "   Order        PID  MS SubClass MS Zoning  Lot Frontage  Lot Area Street  \\\n",
              "0      1  526301100           20        RL         141.0     31770   Pave   \n",
              "1      2  526350040           20        RH          80.0     11622   Pave   \n",
              "2      3  526351010           20        RL          81.0     14267   Pave   \n",
              "3      4  526353030           20        RL          93.0     11160   Pave   \n",
              "4      5  527105010           60        RL          74.0     13830   Pave   \n",
              "\n",
              "  Alley Lot Shape Land Contour  ... Pool Area Pool QC  Fence Misc Feature  \\\n",
              "0   NaN       IR1          Lvl  ...         0     NaN    NaN          NaN   \n",
              "1   NaN       Reg          Lvl  ...         0     NaN  MnPrv          NaN   \n",
              "2   NaN       IR1          Lvl  ...         0     NaN    NaN         Gar2   \n",
              "3   NaN       Reg          Lvl  ...         0     NaN    NaN          NaN   \n",
              "4   NaN       IR1          Lvl  ...         0     NaN  MnPrv          NaN   \n",
              "\n",
              "  Misc Val Mo Sold Yr Sold Sale Type  Sale Condition  SalePrice  \n",
              "0        0       5    2010       WD           Normal     215000  \n",
              "1        0       6    2010       WD           Normal     105000  \n",
              "2    12500       6    2010       WD           Normal     172000  \n",
              "3        0       4    2010       WD           Normal     244000  \n",
              "4        0       3    2010       WD           Normal     189900  \n",
              "\n",
              "[5 rows x 82 columns]"
            ]
          },
          "execution_count": 1,
          "metadata": {},
          "output_type": "execute_result"
        }
      ],
      "source": [
        "# Install relevant libraries and read in dataset\n",
        "import pandas as pd\n",
        "import numpy as np\n",
        "from sklearn.pipeline import Pipeline\n",
        "from sklearn.preprocessing import StandardScaler, OneHotEncoder, PolynomialFeatures\n",
        "from sklearn.linear_model import LinearRegression\n",
        "from sklearn.model_selection import train_test_split\n",
        "from sklearn.metrics import r2_score\n",
        "\n",
        "ames = pd.read_csv(\"AmesHousing.csv\")\n",
        "ames.head()"
      ]
    },
    {
      "cell_type": "markdown",
      "metadata": {
        "id": "rU1mgYB_lV4y"
      },
      "source": [
        "## 13.2.5"
      ]
    },
    {
      "cell_type": "code",
      "execution_count": null,
      "metadata": {
        "id": "4R5vHDBoAY7f"
      },
      "outputs": [],
      "source": [
        "# Split the data\n",
        "X = ames.drop(\"SalePrice\", axis = 1)\n",
        "y = ames[\"SalePrice\"]\n",
        "\n",
        "\n",
        "\n",
        "X_train, X_test, y_train, y_test = train_test_split(X, y, test_size=0.2, random_state=42)"
      ]
    },
    {
      "cell_type": "code",
      "execution_count": null,
      "metadata": {
        "id": "0rPWOp1mAzkd"
      },
      "outputs": [],
      "source": [
        "# 1. Model using size and number of rooms\n",
        "from sklearn.compose import ColumnTransformer\n",
        "\n",
        "ct_1 = ColumnTransformer(\n",
        "  [\n",
        "    (\"standardize\", StandardScaler(), [\"Gr Liv Area\", \"TotRms AbvGrd\"])\n",
        "  ],\n",
        "  remainder = \"drop\"\n",
        ")\n",
        "\n",
        "\n",
        "lr_pipeline_1 = Pipeline(\n",
        "  [(\"preprocessing\", ct_1),\n",
        "  (\"linear_regression\", LinearRegression())]\n",
        ")\n",
        "\n",
        "lr_pipeline_1_fitted = lr_pipeline_1.fit(X_train, y_train)\n",
        "y_preds_1 = lr_pipeline_1_fitted.predict(X_test)"
      ]
    },
    {
      "cell_type": "code",
      "execution_count": null,
      "metadata": {
        "colab": {
          "base_uri": "https://localhost:8080/"
        },
        "id": "lhnse4v_CRTK",
        "outputId": "777988ed-e843-42f9-fdf7-efc29a9f6c73"
      },
      "outputs": [
        {
          "data": {
            "text/plain": [
              "61928.53719680031"
            ]
          },
          "execution_count": 4,
          "metadata": {},
          "output_type": "execute_result"
        }
      ],
      "source": [
        "# Calculate RMSE of Model 1\n",
        "from sklearn.metrics import root_mean_squared_error\n",
        "root_mean_squared_error(y_test, y_preds_1)"
      ]
    },
    {
      "cell_type": "code",
      "execution_count": null,
      "metadata": {
        "id": "mEgk3Qu2CdyJ"
      },
      "outputs": [],
      "source": [
        "# 2. Model using size, number of rooms, and building type\n",
        "ct_2 = ColumnTransformer(\n",
        "  [\n",
        "    (\"dummify\", OneHotEncoder(drop=\"first\", sparse_output = False), [\"Bldg Type\"]),\n",
        "    (\"standardize\", StandardScaler(), [\"Gr Liv Area\", \"TotRms AbvGrd\"])\n",
        "  ],\n",
        "  remainder = \"drop\"\n",
        ")\n",
        "\n",
        "\n",
        "lr_pipeline_2 = Pipeline(\n",
        "  [(\"preprocessing\", ct_2),\n",
        "  (\"linear_regression\", LinearRegression())]\n",
        ")\n",
        "\n",
        "lr_pipeline_2_fitted = lr_pipeline_2.fit(X_train, y_train)\n",
        "y_preds_2 = lr_pipeline_2_fitted.predict(X_test)"
      ]
    },
    {
      "cell_type": "code",
      "execution_count": null,
      "metadata": {
        "colab": {
          "base_uri": "https://localhost:8080/"
        },
        "id": "bPb2OIaUDDrZ",
        "outputId": "fb52c1a1-8a9a-43a7-8b2b-9667570ae8ec"
      },
      "outputs": [
        {
          "data": {
            "text/plain": [
              "59589.20317423356"
            ]
          },
          "execution_count": 6,
          "metadata": {},
          "output_type": "execute_result"
        }
      ],
      "source": [
        "# Calculate RMSE of Model 2\n",
        "root_mean_squared_error(y_test, y_preds_2)"
      ]
    },
    {
      "cell_type": "code",
      "execution_count": null,
      "metadata": {
        "id": "j5rCEiwhDNqw"
      },
      "outputs": [],
      "source": [
        "# 3. Model using size, building type, and their interaction\n",
        "ct_preprocessing_3 = ColumnTransformer(\n",
        "  [(\"dummify\", OneHotEncoder(sparse_output = False), [\"Bldg Type\"]),\n",
        "  (\"standardize\", StandardScaler(), [\"Gr Liv Area\"])],\n",
        "  remainder = \"drop\"\n",
        ").set_output(transform = \"pandas\")\n",
        "\n",
        "ct_inter = ColumnTransformer(\n",
        "  [\n",
        "    (\"interaction\", PolynomialFeatures(interaction_only = True), [\"dummify__Bldg Type_1Fam\", \"standardize__Gr Liv Area\"]),\n",
        "  ],\n",
        "  remainder = \"passthrough\"\n",
        ").set_output(transform = \"pandas\")\n",
        "\n",
        "X_train_preprocessed = ct_preprocessing_3.fit_transform(X_train, y_train)\n",
        "X_train_inter = ct_inter.fit_transform(X_train_preprocessed, y_train)\n",
        "\n",
        "lr_pipeline_3 = Pipeline(\n",
        "  [(\"preprocessing\", ct_preprocessing_3),\n",
        "   (\"inter\", ct_inter),\n",
        "    (\"linear_regression\", LinearRegression())]\n",
        ")\n",
        "\n",
        "lr_pipeline_3_fitted = lr_pipeline_3.fit(X_train, y_train)\n",
        "y_preds_3 = lr_pipeline_3_fitted.predict(X_test)"
      ]
    },
    {
      "cell_type": "code",
      "execution_count": null,
      "metadata": {
        "colab": {
          "base_uri": "https://localhost:8080/"
        },
        "id": "pGjQsLfjFzl8",
        "outputId": "356e6cf5-fd4d-40bb-9ff6-6fa6253a4f72"
      },
      "outputs": [
        {
          "data": {
            "text/plain": [
              "58698.924408821666"
            ]
          },
          "execution_count": 9,
          "metadata": {},
          "output_type": "execute_result"
        }
      ],
      "source": [
        "# Calculate RMSE of Model 3\n",
        "root_mean_squared_error(y_test, y_preds_3)"
      ]
    },
    {
      "cell_type": "code",
      "execution_count": null,
      "metadata": {
        "id": "i023umkJGB7Z"
      },
      "outputs": [],
      "source": [
        "# 4. Model using a 5-degree polynomial on size, a 5-degree polynomial on number of rooms, and building type\n",
        "\n",
        "ct_preprocessing_4 = ColumnTransformer(\n",
        "    [(\"dummify\", OneHotEncoder(drop=\"first\", sparse_output = False), [\"Bldg Type\"]),\n",
        "     (\"standardize\", StandardScaler(), [\"Gr Liv Area\", \"TotRms AbvGrd\"])], remainder = \"drop\").set_output(transform = \"pandas\")\n",
        "\n",
        "ct_poly = ColumnTransformer(\n",
        "  [(\"poly_gr_liv_area\", PolynomialFeatures(degree=5, include_bias=False), [\"standardize__Gr Liv Area\"]),\n",
        "   (\"poly_tot_rms_abvgrd\", PolynomialFeatures(degree=5, include_bias=False), [\"standardize__TotRms AbvGrd\"])], remainder=\"passthrough\").set_output(transform=\"pandas\")\n",
        "\n",
        "X_train_preprocessed = ct_preprocessing_4.fit_transform(X_train, y_train)\n",
        "X_train_poly = ct_poly.fit_transform(X_train_preprocessed, y_train)\n",
        "\n",
        "lr_pipeline_4 = Pipeline(\n",
        "  [(\"preprocessing\", ct_preprocessing_4),\n",
        "   (\"poly\", ct_poly),\n",
        "    (\"linear_regression\", LinearRegression())]\n",
        ")\n",
        "\n",
        "lr_pipeline_4_fitted = lr_pipeline_4.fit(X_train, y_train)\n",
        "y_preds_4 = lr_pipeline_4_fitted.predict(X_test)"
      ]
    },
    {
      "cell_type": "code",
      "execution_count": null,
      "metadata": {
        "colab": {
          "base_uri": "https://localhost:8080/"
        },
        "id": "mb0d21Rn_Pqp",
        "outputId": "55e41e6c-ff06-4168-e48f-46811969f2ff"
      },
      "outputs": [
        {
          "data": {
            "text/plain": [
              "61742.47507941424"
            ]
          },
          "execution_count": 11,
          "metadata": {},
          "output_type": "execute_result"
        }
      ],
      "source": [
        "# Calculate RMSE of Model 4\n",
        "root_mean_squared_error(y_test, y_preds_4)"
      ]
    },
    {
      "cell_type": "markdown",
      "metadata": {
        "id": "RgAamku86B1_"
      },
      "source": [
        "\n",
        "Based on the calculated root mean squared errors for all four of the above models, it seems **Model 3 performed the best** as it had the lowest RMSE (roughly 58,699).\n"
      ]
    },
    {
      "cell_type": "markdown",
      "metadata": {
        "id": "gRVEMw_jmS5N"
      },
      "source": [
        "## 13.3.1"
      ]
    },
    {
      "cell_type": "code",
      "execution_count": null,
      "metadata": {
        "colab": {
          "base_uri": "https://localhost:8080/"
        },
        "id": "75N5eRspCqPw",
        "outputId": "6ea78950-638e-44fc-f2cf-9135f0f7bde7"
      },
      "outputs": [
        {
          "data": {
            "text/plain": [
              "-55806.32634926364"
            ]
          },
          "execution_count": 12,
          "metadata": {},
          "output_type": "execute_result"
        }
      ],
      "source": [
        "# cross_val_score for Model 1\n",
        "from sklearn.model_selection import cross_val_score\n",
        "scores_1 = cross_val_score(lr_pipeline_1, X, y, cv=5, scoring=\"neg_root_mean_squared_error\")\n",
        "scores_1.mean()"
      ]
    },
    {
      "cell_type": "code",
      "execution_count": null,
      "metadata": {
        "colab": {
          "base_uri": "https://localhost:8080/"
        },
        "id": "hTJs6hwo5vtY",
        "outputId": "2a726f6a-2910-4ff5-eedf-01e7022d8143"
      },
      "outputs": [
        {
          "data": {
            "text/plain": [
              "-54168.081429193844"
            ]
          },
          "execution_count": 13,
          "metadata": {},
          "output_type": "execute_result"
        }
      ],
      "source": [
        "# cross_val_score for Model 2\n",
        "scores_2 = cross_val_score(lr_pipeline_2, X, y, cv=5, scoring=\"neg_root_mean_squared_error\")\n",
        "scores_2.mean()"
      ]
    },
    {
      "cell_type": "code",
      "execution_count": null,
      "metadata": {
        "colab": {
          "base_uri": "https://localhost:8080/"
        },
        "id": "bQOESA-95xP_",
        "outputId": "9f3bd207-b502-48d0-a1e5-862d4fa8b707"
      },
      "outputs": [
        {
          "data": {
            "text/plain": [
              "-54096.070676835996"
            ]
          },
          "execution_count": 14,
          "metadata": {},
          "output_type": "execute_result"
        }
      ],
      "source": [
        "# cross_val_score for Model 3\n",
        "scores_3 = cross_val_score(lr_pipeline_3, X, y, cv=5, scoring=\"neg_root_mean_squared_error\")\n",
        "scores_3.mean()"
      ]
    },
    {
      "cell_type": "code",
      "execution_count": null,
      "metadata": {
        "colab": {
          "base_uri": "https://localhost:8080/"
        },
        "id": "o1d9afoy5zI0",
        "outputId": "cf857ca9-46d0-492c-ddae-9dfe9a2a18e8"
      },
      "outputs": [
        {
          "data": {
            "text/plain": [
              "-55176.96594338135"
            ]
          },
          "execution_count": 15,
          "metadata": {},
          "output_type": "execute_result"
        }
      ],
      "source": [
        "# cross_val_score for Model 4\n",
        "scores_4 = cross_val_score(lr_pipeline_4, X, y, cv=5, scoring=\"neg_root_mean_squared_error\")\n",
        "scores_4.mean()"
      ]
    },
    {
      "cell_type": "markdown",
      "metadata": {
        "id": "K-pBYlyD-D8O"
      },
      "source": [
        "\n",
        "Once again Model 3 performed the best, which aligns with the RMSE analyses earlier.\n"
      ]
    },
    {
      "cell_type": "markdown",
      "metadata": {
        "id": "iL91KNIbmXwt"
      },
      "source": [
        "## 13.3.3"
      ]
    },
    {
      "cell_type": "code",
      "execution_count": 21,
      "metadata": {
        "colab": {
          "base_uri": "https://localhost:8080/"
        },
        "id": "oofiUa1O-L3y",
        "outputId": "a25d9dca-4b01-470d-cda9-5bdfe5b75583"
      },
      "outputs": [
        {
          "name": "stdout",
          "output_type": "stream",
          "text": [
            "Best parameters: {'preprocessing__poly_gr_liv_area__polynomial__degree': 3, 'preprocessing__poly_tot_rms_abvgrd__polynomial__degree': 1}\n",
            "Best R-squared score: 0.5576406034746231\n"
          ]
        }
      ],
      "source": [
        "# Trying various degrees of size and number of rooms through GridSearchCV\n",
        "from sklearn.model_selection import GridSearchCV\n",
        "\n",
        "ct = ColumnTransformer(\n",
        "    [\n",
        "        (\"dummify\", OneHotEncoder(drop=\"first\", sparse_output=False), [\"Bldg Type\"]),\n",
        "        (\"poly_gr_liv_area\", Pipeline([(\"polynomial\", PolynomialFeatures())]), [\"Gr Liv Area\"]),\n",
        "        (\"poly_tot_rms_abvgrd\", Pipeline([(\"polynomial\", PolynomialFeatures())]), [\"TotRms AbvGrd\"])\n",
        "    ],\n",
        "    remainder=\"drop\"\n",
        ")\n",
        "\n",
        "lr_pipeline = Pipeline(\n",
        "  [(\"preprocessing\", ct),\n",
        "  (\"linear_regression\", LinearRegression())]\n",
        ")\n",
        "\n",
        "param_grid = {\n",
        "    \"preprocessing__poly_gr_liv_area__polynomial__degree\": np.arange(1, 11),\n",
        "    \"preprocessing__poly_tot_rms_abvgrd__polynomial__degree\": np.arange(1, 11)\n",
        "}\n",
        "\n",
        "gscv = GridSearchCV(lr_pipeline, param_grid, cv=5, scoring=\"r2\")\n",
        "gscv_fitted = gscv.fit(X, y)\n",
        "\n",
        "print(\"Best parameters:\", gscv_fitted.best_params_)\n",
        "print(\"Best R-squared score:\", gscv_fitted.best_score_)"
      ]
    },
    {
      "cell_type": "markdown",
      "metadata": {
        "id": "GkL1G8p72K3D"
      },
      "source": [
        "Q1: The model with a degree 3 polynomial for house size and a degree 1 polynomial for number of rooms performed best.\n",
        "\n",
        "Q2: The main downside of trying all possible model options is that it's computationally time-consuming. Personally, I would start by picking a smaller range of values for tuning (for example, degrees 1 through 5) and if I do not get a satisfactory R-squared value from any of those, I would see if other numbers would work better."
      ]
    }
  ],
  "metadata": {
    "colab": {
      "provenance": []
    },
    "kernelspec": {
      "display_name": "Python 3",
      "name": "python3"
    },
    "language_info": {
      "name": "python"
    }
  },
  "nbformat": 4,
  "nbformat_minor": 0
}
