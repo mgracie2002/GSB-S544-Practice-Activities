{
  "cells": [
    {
      "cell_type": "raw",
      "metadata": {
        "vscode": {
          "languageId": "raw"
        }
      },
      "source": [
        "---\n",
        "title: Palmer Penguins Modeling (Practice Activity 8.2)\n",
        "author: Megan Gibson\n",
        "format:\n",
        "    html:\n",
        "        toc: true\n",
        "        theme: default\n",
        "embed-resources: true\n",
        "---"
      ]
    },
    {
      "cell_type": "markdown",
      "metadata": {
        "id": "TxbDFsJARAMD"
      },
      "source": [
        "\n",
        "Import the Palmer Penguins dataset and print out the first few rows.\n",
        "\n",
        "Suppose we want to predict `species` using the other variables in the dataset.\n",
        "\n",
        "**Dummify** all variables that require this."
      ]
    },
    {
      "cell_type": "code",
      "execution_count": 97,
      "metadata": {
        "id": "Cq2eIifDVVik"
      },
      "outputs": [],
      "source": [
        "# Import relevant libraries\n",
        "import pandas as pd\n",
        "import numpy as np\n",
        "from palmerpenguins import load_penguins\n",
        "from sklearn.neighbors import KNeighborsClassifier\n",
        "from sklearn.pipeline import Pipeline\n",
        "from sklearn.preprocessing import StandardScaler\n",
        "from sklearn.compose import ColumnTransformer\n",
        "from sklearn.tree import DecisionTreeClassifier\n",
        "from sklearn.model_selection import train_test_split\n",
        "from sklearn.metrics import confusion_matrix, accuracy_score, precision_score, recall_score, roc_auc_score, f1_score, roc_curve\n",
        "from plotnine import *"
      ]
    },
    {
      "cell_type": "code",
      "execution_count": 98,
      "metadata": {
        "colab": {
          "base_uri": "https://localhost:8080/",
          "height": 206
        },
        "id": "QV2uolyOQ65C",
        "outputId": "22893eeb-ba1d-4197-b9b8-fdaa1680961a"
      },
      "outputs": [
        {
          "data": {
            "text/html": [
              "<div>\n",
              "<style scoped>\n",
              "    .dataframe tbody tr th:only-of-type {\n",
              "        vertical-align: middle;\n",
              "    }\n",
              "\n",
              "    .dataframe tbody tr th {\n",
              "        vertical-align: top;\n",
              "    }\n",
              "\n",
              "    .dataframe thead th {\n",
              "        text-align: right;\n",
              "    }\n",
              "</style>\n",
              "<table border=\"1\" class=\"dataframe\">\n",
              "  <thead>\n",
              "    <tr style=\"text-align: right;\">\n",
              "      <th></th>\n",
              "      <th>species</th>\n",
              "      <th>island</th>\n",
              "      <th>bill_length_mm</th>\n",
              "      <th>bill_depth_mm</th>\n",
              "      <th>flipper_length_mm</th>\n",
              "      <th>body_mass_g</th>\n",
              "      <th>sex</th>\n",
              "      <th>year</th>\n",
              "    </tr>\n",
              "  </thead>\n",
              "  <tbody>\n",
              "    <tr>\n",
              "      <th>0</th>\n",
              "      <td>Adelie</td>\n",
              "      <td>Torgersen</td>\n",
              "      <td>39.1</td>\n",
              "      <td>18.7</td>\n",
              "      <td>181.0</td>\n",
              "      <td>3750.0</td>\n",
              "      <td>male</td>\n",
              "      <td>2007</td>\n",
              "    </tr>\n",
              "    <tr>\n",
              "      <th>1</th>\n",
              "      <td>Adelie</td>\n",
              "      <td>Torgersen</td>\n",
              "      <td>39.5</td>\n",
              "      <td>17.4</td>\n",
              "      <td>186.0</td>\n",
              "      <td>3800.0</td>\n",
              "      <td>female</td>\n",
              "      <td>2007</td>\n",
              "    </tr>\n",
              "    <tr>\n",
              "      <th>2</th>\n",
              "      <td>Adelie</td>\n",
              "      <td>Torgersen</td>\n",
              "      <td>40.3</td>\n",
              "      <td>18.0</td>\n",
              "      <td>195.0</td>\n",
              "      <td>3250.0</td>\n",
              "      <td>female</td>\n",
              "      <td>2007</td>\n",
              "    </tr>\n",
              "    <tr>\n",
              "      <th>3</th>\n",
              "      <td>Adelie</td>\n",
              "      <td>Torgersen</td>\n",
              "      <td>NaN</td>\n",
              "      <td>NaN</td>\n",
              "      <td>NaN</td>\n",
              "      <td>NaN</td>\n",
              "      <td>NaN</td>\n",
              "      <td>2007</td>\n",
              "    </tr>\n",
              "    <tr>\n",
              "      <th>4</th>\n",
              "      <td>Adelie</td>\n",
              "      <td>Torgersen</td>\n",
              "      <td>36.7</td>\n",
              "      <td>19.3</td>\n",
              "      <td>193.0</td>\n",
              "      <td>3450.0</td>\n",
              "      <td>female</td>\n",
              "      <td>2007</td>\n",
              "    </tr>\n",
              "  </tbody>\n",
              "</table>\n",
              "</div>"
            ],
            "text/plain": [
              "  species     island  bill_length_mm  bill_depth_mm  flipper_length_mm  body_mass_g     sex  year\n",
              "0  Adelie  Torgersen            39.1           18.7              181.0       3750.0    male  2007\n",
              "1  Adelie  Torgersen            39.5           17.4              186.0       3800.0  female  2007\n",
              "2  Adelie  Torgersen            40.3           18.0              195.0       3250.0  female  2007\n",
              "3  Adelie  Torgersen             NaN            NaN                NaN          NaN     NaN  2007\n",
              "4  Adelie  Torgersen            36.7           19.3              193.0       3450.0  female  2007"
            ]
          },
          "execution_count": null,
          "metadata": {},
          "output_type": "execute_result"
        }
      ],
      "source": [
        "# Read in dataset\n",
        "penguins = load_penguins()\n",
        "penguins.head()"
      ]
    },
    {
      "cell_type": "code",
      "execution_count": 99,
      "metadata": {
        "colab": {
          "base_uri": "https://localhost:8080/",
          "height": 226
        },
        "id": "5Jh4cCdClIry",
        "outputId": "fdea4cac-46b3-4a1e-8237-58d4aaac09c8"
      },
      "outputs": [
        {
          "data": {
            "text/html": [
              "<div>\n",
              "<style scoped>\n",
              "    .dataframe tbody tr th:only-of-type {\n",
              "        vertical-align: middle;\n",
              "    }\n",
              "\n",
              "    .dataframe tbody tr th {\n",
              "        vertical-align: top;\n",
              "    }\n",
              "\n",
              "    .dataframe thead th {\n",
              "        text-align: right;\n",
              "    }\n",
              "</style>\n",
              "<table border=\"1\" class=\"dataframe\">\n",
              "  <thead>\n",
              "    <tr style=\"text-align: right;\">\n",
              "      <th></th>\n",
              "      <th>species</th>\n",
              "      <th>bill_length_mm</th>\n",
              "      <th>bill_depth_mm</th>\n",
              "      <th>flipper_length_mm</th>\n",
              "      <th>body_mass_g</th>\n",
              "      <th>year_2007</th>\n",
              "      <th>year_2008</th>\n",
              "      <th>year_2009</th>\n",
              "      <th>island_Biscoe</th>\n",
              "      <th>island_Dream</th>\n",
              "      <th>island_Torgersen</th>\n",
              "      <th>sex_female</th>\n",
              "      <th>sex_male</th>\n",
              "    </tr>\n",
              "  </thead>\n",
              "  <tbody>\n",
              "    <tr>\n",
              "      <th>0</th>\n",
              "      <td>Adelie</td>\n",
              "      <td>39.1</td>\n",
              "      <td>18.7</td>\n",
              "      <td>181.0</td>\n",
              "      <td>3750.0</td>\n",
              "      <td>1</td>\n",
              "      <td>0</td>\n",
              "      <td>0</td>\n",
              "      <td>0</td>\n",
              "      <td>0</td>\n",
              "      <td>1</td>\n",
              "      <td>0</td>\n",
              "      <td>1</td>\n",
              "    </tr>\n",
              "    <tr>\n",
              "      <th>1</th>\n",
              "      <td>Adelie</td>\n",
              "      <td>39.5</td>\n",
              "      <td>17.4</td>\n",
              "      <td>186.0</td>\n",
              "      <td>3800.0</td>\n",
              "      <td>1</td>\n",
              "      <td>0</td>\n",
              "      <td>0</td>\n",
              "      <td>0</td>\n",
              "      <td>0</td>\n",
              "      <td>1</td>\n",
              "      <td>1</td>\n",
              "      <td>0</td>\n",
              "    </tr>\n",
              "    <tr>\n",
              "      <th>2</th>\n",
              "      <td>Adelie</td>\n",
              "      <td>40.3</td>\n",
              "      <td>18.0</td>\n",
              "      <td>195.0</td>\n",
              "      <td>3250.0</td>\n",
              "      <td>1</td>\n",
              "      <td>0</td>\n",
              "      <td>0</td>\n",
              "      <td>0</td>\n",
              "      <td>0</td>\n",
              "      <td>1</td>\n",
              "      <td>1</td>\n",
              "      <td>0</td>\n",
              "    </tr>\n",
              "    <tr>\n",
              "      <th>4</th>\n",
              "      <td>Adelie</td>\n",
              "      <td>36.7</td>\n",
              "      <td>19.3</td>\n",
              "      <td>193.0</td>\n",
              "      <td>3450.0</td>\n",
              "      <td>1</td>\n",
              "      <td>0</td>\n",
              "      <td>0</td>\n",
              "      <td>0</td>\n",
              "      <td>0</td>\n",
              "      <td>1</td>\n",
              "      <td>1</td>\n",
              "      <td>0</td>\n",
              "    </tr>\n",
              "    <tr>\n",
              "      <th>5</th>\n",
              "      <td>Adelie</td>\n",
              "      <td>39.3</td>\n",
              "      <td>20.6</td>\n",
              "      <td>190.0</td>\n",
              "      <td>3650.0</td>\n",
              "      <td>1</td>\n",
              "      <td>0</td>\n",
              "      <td>0</td>\n",
              "      <td>0</td>\n",
              "      <td>0</td>\n",
              "      <td>1</td>\n",
              "      <td>0</td>\n",
              "      <td>1</td>\n",
              "    </tr>\n",
              "  </tbody>\n",
              "</table>\n",
              "</div>"
            ],
            "text/plain": [
              "  species  bill_length_mm  bill_depth_mm  flipper_length_mm  ...  island_Dream  island_Torgersen  sex_female  sex_male\n",
              "0  Adelie            39.1           18.7              181.0  ...             0                 1           0         1\n",
              "1  Adelie            39.5           17.4              186.0  ...             0                 1           1         0\n",
              "2  Adelie            40.3           18.0              195.0  ...             0                 1           1         0\n",
              "4  Adelie            36.7           19.3              193.0  ...             0                 1           1         0\n",
              "5  Adelie            39.3           20.6              190.0  ...             0                 1           0         1\n",
              "\n",
              "[5 rows x 13 columns]"
            ]
          },
          "execution_count": null,
          "metadata": {},
          "output_type": "execute_result"
        }
      ],
      "source": [
        "# Drop NA's and dummify categorical variables (except \"species\" since that is the target variable)\n",
        "penguins = penguins.dropna()\n",
        "penguins = pd.get_dummies(penguins, columns=[\"year\", \"island\", \"sex\"]) # I am including year because I want to treat it as categorical\n",
        "\n",
        "# Let's change the boolean true/false outputs to 0's for false and 1's for true\n",
        "new_columns = [\"year_2007\", \"year_2008\", \"year_2009\", \"island_Biscoe\", \"island_Dream\", \"island_Torgersen\", \"sex_female\", \"sex_male\"]\n",
        "penguins[new_columns] = penguins[new_columns].astype(int)\n",
        "penguins.head()"
      ]
    },
    {
      "cell_type": "markdown",
      "metadata": {
        "id": "HecNBVAnRHod"
      },
      "source": [
        "Let's use the other variables to predict `species`. Prepare your data and fit the following models on the entire dataset:\n",
        "\n",
        "* Two kNN models (for different values of K)\n",
        "* Two decision tree models (for different complexities of trees)\n",
        "\n",
        "Compute the following, for each of your models, on test data. Keep in mind that you may need to stratify your creation of the training and test data.\n",
        "\n",
        "* Confusion matrix\n",
        "* Overall Accuracy\n",
        "* Precision, Recall, AUC, and F1-score for each species\n",
        "\n",
        "Create one ROC plot for the species of your choice."
      ]
    },
    {
      "cell_type": "code",
      "execution_count": 100,
      "metadata": {
        "id": "vn91NagG2O2Z"
      },
      "outputs": [],
      "source": [
        "# Set predictor and target variables\n",
        "y = penguins[\"species\"]\n",
        "X = penguins.drop(\"species\", axis = 1)"
      ]
    },
    {
      "cell_type": "code",
      "execution_count": 101,
      "metadata": {
        "id": "t5VnNaVmk0rj"
      },
      "outputs": [],
      "source": [
        "# kNN model (K=5)\n",
        "ct = ColumnTransformer(\n",
        "  [\n",
        "    (\"standardize\", StandardScaler(), [\"bill_length_mm\", \"bill_depth_mm\", \"flipper_length_mm\", \"body_mass_g\"]) # a dummifying step is not needed here since the categorical variables have already been dummified\n",
        "  ],\n",
        "  remainder = \"passthrough\"\n",
        ")\n",
        "\n",
        "knn_classification_pipeline = Pipeline(\n",
        "  [(\"preprocessing\", ct),\n",
        "  (\"knn_classification\", KNeighborsClassifier(n_neighbors=5))]\n",
        ")\n",
        "\n",
        "# Fit on entire dataset\n",
        "knn_classification_pipeline_fitted = knn_classification_pipeline.fit(X, y)\n",
        "y_preds_knn = knn_classification_pipeline_fitted.predict(X)"
      ]
    },
    {
      "cell_type": "code",
      "execution_count": 102,
      "metadata": {
        "id": "U1onRGJQR8T_"
      },
      "outputs": [],
      "source": [
        "# kNN model (K=20)\n",
        "knn_classification_pipeline_2 = Pipeline(\n",
        "  [(\"preprocessing\", ct),\n",
        "  (\"knn_classification\", KNeighborsClassifier(n_neighbors=20))]\n",
        ")\n",
        "\n",
        "# Fit on entire dataset\n",
        "knn_classification_pipeline_2_fitted = knn_classification_pipeline_2.fit(X, y)\n",
        "y_preds_knn_2 = knn_classification_pipeline_2_fitted.predict(X)"
      ]
    },
    {
      "cell_type": "code",
      "execution_count": 103,
      "metadata": {
        "id": "YieaODz95txY"
      },
      "outputs": [],
      "source": [
        "# Decision tree model (min_impurity_decrease=0.01)\n",
        "dt_classification_pipeline = Pipeline(\n",
        "  [(\"preprocessing\", ct),\n",
        "  (\"dt_classification\", DecisionTreeClassifier(min_impurity_decrease=0.01))]\n",
        ")"
      ]
    },
    {
      "cell_type": "code",
      "execution_count": 104,
      "metadata": {
        "id": "BA8sVlO56iHT"
      },
      "outputs": [],
      "source": [
        "# Decision tree model (min_impurity_decrease=0.1)\n",
        "dt_classification_pipeline_2 = Pipeline(\n",
        "  [(\"preprocessing\", ct),\n",
        "  (\"dt_classification\", DecisionTreeClassifier(min_impurity_decrease=0.1))]\n",
        ")"
      ]
    },
    {
      "cell_type": "code",
      "execution_count": 105,
      "metadata": {
        "id": "wiFSU7yLmgR7"
      },
      "outputs": [],
      "source": [
        "# Create training and test data (include stratifying the target variable)\n",
        "X_train, X_test, y_train, y_test = train_test_split(X, y, test_size=0.2, stratify=y, random_state=42)"
      ]
    },
    {
      "cell_type": "markdown",
      "metadata": {
        "id": "BFVw07WQOBhf"
      },
      "source": [
        "# kNN model (K=5)"
      ]
    },
    {
      "cell_type": "code",
      "execution_count": 106,
      "metadata": {
        "colab": {
          "base_uri": "https://localhost:8080/"
        },
        "id": "mMmZ24dvmq1q",
        "outputId": "781b66f4-51ac-43b6-bf3c-e9200691d751"
      },
      "outputs": [
        {
          "data": {
            "text/plain": [
              "array([[28,  1,  0],\n",
              "       [ 1, 13,  0],\n",
              "       [ 0,  0, 24]])"
            ]
          },
          "execution_count": null,
          "metadata": {},
          "output_type": "execute_result"
        }
      ],
      "source": [
        "# Confusion matrix for kNN model (K=5)\n",
        "knn_classification_pipeline_fitted = knn_classification_pipeline.fit(X_train, y_train)\n",
        "y_preds_knn = knn_classification_pipeline_fitted.predict(X_test)\n",
        "\n",
        "confusion_matrix(y_test, y_preds_knn)"
      ]
    },
    {
      "cell_type": "code",
      "execution_count": 107,
      "metadata": {
        "colab": {
          "base_uri": "https://localhost:8080/"
        },
        "id": "jlPPiwwHOE9B",
        "outputId": "3058f811-5725-4e6b-dfe5-13d7d16c5857"
      },
      "outputs": [
        {
          "data": {
            "text/plain": [
              "0.9701492537313433"
            ]
          },
          "execution_count": null,
          "metadata": {},
          "output_type": "execute_result"
        }
      ],
      "source": [
        "# Overall accuracy\n",
        "accuracy_score(y_test, y_preds_knn)"
      ]
    },
    {
      "cell_type": "code",
      "execution_count": 108,
      "metadata": {
        "colab": {
          "base_uri": "https://localhost:8080/"
        },
        "id": "bSWpTwP1O8mC",
        "outputId": "0dfcc5af-b2c5-4dde-e3e7-7c8420ccb39d"
      },
      "outputs": [
        {
          "name": "stdout",
          "output_type": "stream",
          "text": [
            "Precision score: 0.9655172413793104\n",
            "Recall score: 0.9655172413793104\n",
            "AUC: 0.9696007259528131\n",
            "F1 score: 0.9655172413793104\n",
            "Precision score: 0.9655172413793104\n",
            "Recall score: 0.9655172413793104\n",
            "AUC: 0.9696007259528131\n",
            "F1 score: 0.9655172413793104\n"
          ]
        }
      ],
      "source": [
        "# Precision, Recall, AUC, and F1-score for Adelie\n",
        "print(\"Precision score:\", precision_score(y_test == \"Adelie\", y_preds_knn == \"Adelie\", average = \"binary\"))\n",
        "print(\"Recall score:\", recall_score(y_test == \"Adelie\", y_preds_knn == \"Adelie\", average = \"binary\"))\n",
        "print(\"AUC:\", roc_auc_score(y_test == \"Adelie\", y_preds_knn == \"Adelie\", average = \"macro\"))\n",
        "print(\"F1 score:\", f1_score(y_test == \"Adelie\", y_preds_knn == \"Adelie\", average = \"binary\"))"
      ]
    },
    {
      "cell_type": "code",
      "execution_count": 109,
      "metadata": {
        "colab": {
          "base_uri": "https://localhost:8080/"
        },
        "id": "0Ce17U8rQenE",
        "outputId": "1175baa0-20c0-4a95-b22c-866b73b683a4"
      },
      "outputs": [
        {
          "name": "stdout",
          "output_type": "stream",
          "text": [
            "Precision score: 0.9285714285714286\n",
            "Recall score: 0.9285714285714286\n",
            "AUC: 0.9548517520215634\n",
            "F1 score: 0.9285714285714286\n",
            "Precision score: 0.9285714285714286\n",
            "Recall score: 0.9285714285714286\n",
            "AUC: 0.9548517520215634\n",
            "F1 score: 0.9285714285714286\n"
          ]
        }
      ],
      "source": [
        "# Precision, Recall, AUC, and F1-score for Chinstrap\n",
        "print(\"Precision score:\", precision_score(y_test == \"Chinstrap\", y_preds_knn == \"Chinstrap\", average = \"binary\"))\n",
        "print(\"Recall score:\", recall_score(y_test == \"Chinstrap\", y_preds_knn == \"Chinstrap\", average = \"binary\"))\n",
        "print(\"AUC:\", roc_auc_score(y_test == \"Chinstrap\", y_preds_knn == \"Chinstrap\", average = \"macro\"))\n",
        "print(\"F1 score:\", f1_score(y_test == \"Chinstrap\", y_preds_knn == \"Chinstrap\", average = \"binary\"))"
      ]
    },
    {
      "cell_type": "code",
      "execution_count": 110,
      "metadata": {
        "colab": {
          "base_uri": "https://localhost:8080/"
        },
        "id": "Vpy1ThmrTZwr",
        "outputId": "5fd0e6a1-3f12-43c9-b25d-ca1fe22f11ac"
      },
      "outputs": [
        {
          "name": "stdout",
          "output_type": "stream",
          "text": [
            "Precision score: 1.0\n",
            "Recall score: 1.0\n",
            "AUC: 1.0\n",
            "F1 score: 1.0\n",
            "Precision score: 1.0\n",
            "Recall score: 1.0\n",
            "AUC: 1.0\n",
            "F1 score: 1.0\n"
          ]
        }
      ],
      "source": [
        "# Precision, Recall, AUC, and F1-score for Gentoo\n",
        "print(\"Precision score:\", precision_score(y_test == \"Gentoo\", y_preds_knn == \"Gentoo\", average = \"binary\"))\n",
        "print(\"Recall score:\", recall_score(y_test == \"Gentoo\", y_preds_knn == \"Gentoo\", average = \"binary\"))\n",
        "print(\"AUC:\", roc_auc_score(y_test == \"Gentoo\", y_preds_knn == \"Gentoo\", average = \"macro\"))\n",
        "print(\"F1 score:\", f1_score(y_test == \"Gentoo\", y_preds_knn == \"Gentoo\", average = \"binary\"))"
      ]
    },
    {
      "cell_type": "markdown",
      "metadata": {
        "id": "0MLVapfvT6p8"
      },
      "source": [
        "# kNN Model (K=20)"
      ]
    },
    {
      "cell_type": "code",
      "execution_count": 111,
      "metadata": {
        "colab": {
          "base_uri": "https://localhost:8080/"
        },
        "id": "O6QUmKuOTz2e",
        "outputId": "a448ccb6-58aa-4394-b6ba-cdfb27b4a1c3"
      },
      "outputs": [
        {
          "data": {
            "text/plain": [
              "array([[29,  0,  0],\n",
              "       [ 0, 14,  0],\n",
              "       [ 0,  0, 24]])"
            ]
          },
          "execution_count": null,
          "metadata": {},
          "output_type": "execute_result"
        }
      ],
      "source": [
        "# Confusion matrix for kNN model (K=20)\n",
        "knn_classification_pipeline_2_fitted = knn_classification_pipeline_2.fit(X_train, y_train)\n",
        "y_preds_knn_2 = knn_classification_pipeline_2_fitted.predict(X_test)\n",
        "\n",
        "confusion_matrix(y_test, y_preds_knn_2)"
      ]
    },
    {
      "cell_type": "code",
      "execution_count": 112,
      "metadata": {
        "colab": {
          "base_uri": "https://localhost:8080/"
        },
        "id": "IGmulXsUUMH7",
        "outputId": "d71e3a7c-910f-4fba-c4cc-d541bba80e4f"
      },
      "outputs": [
        {
          "data": {
            "text/plain": [
              "1.0"
            ]
          },
          "execution_count": null,
          "metadata": {},
          "output_type": "execute_result"
        }
      ],
      "source": [
        "# Overall accuracy\n",
        "accuracy_score(y_test, y_preds_knn_2)"
      ]
    },
    {
      "cell_type": "code",
      "execution_count": 113,
      "metadata": {
        "colab": {
          "base_uri": "https://localhost:8080/"
        },
        "id": "Y2F7nrK2UOVS",
        "outputId": "194f9443-7ebd-4e29-e3b5-80db84d7a3b7"
      },
      "outputs": [
        {
          "name": "stdout",
          "output_type": "stream",
          "text": [
            "Precision score: 1.0\n",
            "Recall score: 1.0\n",
            "AUC: 1.0\n",
            "F1 score: 1.0\n",
            "Precision score: 1.0\n",
            "Recall score: 1.0\n",
            "AUC: 1.0\n",
            "F1 score: 1.0\n"
          ]
        }
      ],
      "source": [
        "# Precision, Recall, AUC, and F1-score for Adelie\n",
        "print(\"Precision score:\", precision_score(y_test == \"Adelie\", y_preds_knn_2 == \"Adelie\", average = \"binary\"))\n",
        "print(\"Recall score:\", recall_score(y_test == \"Adelie\", y_preds_knn_2 == \"Adelie\", average = \"binary\"))\n",
        "print(\"AUC:\", roc_auc_score(y_test == \"Adelie\", y_preds_knn_2 == \"Adelie\", average = \"macro\"))\n",
        "print(\"F1 score:\", f1_score(y_test == \"Adelie\", y_preds_knn_2 == \"Adelie\", average = \"binary\"))"
      ]
    },
    {
      "cell_type": "code",
      "execution_count": 114,
      "metadata": {
        "colab": {
          "base_uri": "https://localhost:8080/"
        },
        "id": "PeOK10m8Ug0t",
        "outputId": "0d9522f4-1c74-40f3-8d52-a5afb28bb1c3"
      },
      "outputs": [
        {
          "name": "stdout",
          "output_type": "stream",
          "text": [
            "Precision score: 1.0\n",
            "Recall score: 1.0\n",
            "AUC: 1.0\n",
            "F1 score: 1.0\n",
            "Precision score: 1.0\n",
            "Recall score: 1.0\n",
            "AUC: 1.0\n",
            "F1 score: 1.0\n"
          ]
        }
      ],
      "source": [
        "# Precision, Recall, AUC, and F1-score for Chinstrap\n",
        "print(\"Precision score:\", precision_score(y_test == \"Chinstrap\", y_preds_knn_2 == \"Chinstrap\", average = \"binary\"))\n",
        "print(\"Recall score:\", recall_score(y_test == \"Chinstrap\", y_preds_knn_2 == \"Chinstrap\", average = \"binary\"))\n",
        "print(\"AUC:\", roc_auc_score(y_test == \"Chinstrap\", y_preds_knn_2 == \"Chinstrap\", average = \"macro\"))\n",
        "print(\"F1 score:\", f1_score(y_test == \"Chinstrap\", y_preds_knn_2 == \"Chinstrap\", average = \"binary\"))"
      ]
    },
    {
      "cell_type": "code",
      "execution_count": 115,
      "metadata": {
        "colab": {
          "base_uri": "https://localhost:8080/"
        },
        "id": "KFcsCFfXUnXI",
        "outputId": "bb10add9-86ba-4774-e1d1-70af803da5da"
      },
      "outputs": [
        {
          "name": "stdout",
          "output_type": "stream",
          "text": [
            "Precision score: 1.0\n",
            "Recall score: 1.0\n",
            "AUC: 1.0\n",
            "F1 score: 1.0\n",
            "Precision score: 1.0\n",
            "Recall score: 1.0\n",
            "AUC: 1.0\n",
            "F1 score: 1.0\n"
          ]
        }
      ],
      "source": [
        "# Precision, Recall, AUC, and F1-score for Gentoo\n",
        "print(\"Precision score:\", precision_score(y_test == \"Gentoo\", y_preds_knn_2 == \"Gentoo\", average = \"binary\"))\n",
        "print(\"Recall score:\", recall_score(y_test == \"Gentoo\", y_preds_knn_2 == \"Gentoo\", average = \"binary\"))\n",
        "print(\"AUC:\", roc_auc_score(y_test == \"Gentoo\", y_preds_knn_2 == \"Gentoo\", average = \"macro\"))\n",
        "print(\"F1 score:\", f1_score(y_test == \"Gentoo\", y_preds_knn_2 == \"Gentoo\", average = \"binary\"))"
      ]
    },
    {
      "cell_type": "markdown",
      "metadata": {
        "id": "nL9n5rSLU6nb"
      },
      "source": [
        "# Decision tree model (min_impurity_decrease=0.01)"
      ]
    },
    {
      "cell_type": "code",
      "execution_count": 116,
      "metadata": {
        "colab": {
          "base_uri": "https://localhost:8080/"
        },
        "id": "PJ-s9-neU47s",
        "outputId": "fa187ed3-e808-4e99-fc60-212a33eaa6d7"
      },
      "outputs": [
        {
          "data": {
            "text/plain": [
              "array([[29,  0,  0],\n",
              "       [ 1, 13,  0],\n",
              "       [ 2,  0, 22]])"
            ]
          },
          "execution_count": null,
          "metadata": {},
          "output_type": "execute_result"
        }
      ],
      "source": [
        "# Confusion matrix\n",
        "dt_classification_pipeline_fitted = dt_classification_pipeline.fit(X_train, y_train)\n",
        "y_preds_dt = dt_classification_pipeline_fitted.predict(X_test)\n",
        "\n",
        "confusion_matrix(y_test, y_preds_dt)"
      ]
    },
    {
      "cell_type": "code",
      "execution_count": 117,
      "metadata": {
        "colab": {
          "base_uri": "https://localhost:8080/"
        },
        "id": "JKJ9SLbtVK5p",
        "outputId": "5aca4766-ebe6-4723-a5fb-002eda0645a4"
      },
      "outputs": [
        {
          "data": {
            "text/plain": [
              "0.9552238805970149"
            ]
          },
          "execution_count": null,
          "metadata": {},
          "output_type": "execute_result"
        }
      ],
      "source": [
        "# Overall accuracy\n",
        "accuracy_score(y_test, y_preds_dt)"
      ]
    },
    {
      "cell_type": "code",
      "execution_count": 118,
      "metadata": {
        "colab": {
          "base_uri": "https://localhost:8080/"
        },
        "id": "UWDaEyQpVOr5",
        "outputId": "5a9eda87-f599-4843-c5e6-b28c77c73827"
      },
      "outputs": [
        {
          "name": "stdout",
          "output_type": "stream",
          "text": [
            "Precision score: 0.90625\n",
            "Recall score: 1.0\n",
            "AUC: 0.9605263157894737\n",
            "F1 score: 0.9508196721311475\n",
            "Precision score: 0.90625\n",
            "Recall score: 1.0\n",
            "AUC: 0.9605263157894737\n",
            "F1 score: 0.9508196721311475\n"
          ]
        }
      ],
      "source": [
        "# Precision, Recall, AUC, and F1-score for Adelie\n",
        "print(\"Precision score:\", precision_score(y_test == \"Adelie\", y_preds_dt == \"Adelie\", average = \"binary\"))\n",
        "print(\"Recall score:\", recall_score(y_test == \"Adelie\", y_preds_dt == \"Adelie\", average = \"binary\"))\n",
        "print(\"AUC:\", roc_auc_score(y_test == \"Adelie\", y_preds_dt == \"Adelie\", average = \"macro\"))\n",
        "print(\"F1 score:\", f1_score(y_test == \"Adelie\", y_preds_dt == \"Adelie\", average = \"binary\"))"
      ]
    },
    {
      "cell_type": "code",
      "execution_count": 119,
      "metadata": {
        "colab": {
          "base_uri": "https://localhost:8080/"
        },
        "id": "Ecyx7PkpWGBx",
        "outputId": "494efad0-4ad7-4626-f391-490bc045cf8a"
      },
      "outputs": [
        {
          "name": "stdout",
          "output_type": "stream",
          "text": [
            "Precision score: 1.0\n",
            "Recall score: 0.9285714285714286\n",
            "AUC: 0.9642857142857143\n",
            "F1 score: 0.962962962962963\n",
            "Precision score: 1.0\n",
            "Recall score: 0.9285714285714286\n",
            "AUC: 0.9642857142857143\n",
            "F1 score: 0.962962962962963\n"
          ]
        }
      ],
      "source": [
        "# Precision, Recall, AUC, and F1-score for Chinstrap\n",
        "print(\"Precision score:\", precision_score(y_test == \"Chinstrap\", y_preds_dt == \"Chinstrap\", average = \"binary\"))\n",
        "print(\"Recall score:\", recall_score(y_test == \"Chinstrap\", y_preds_dt == \"Chinstrap\", average = \"binary\"))\n",
        "print(\"AUC:\", roc_auc_score(y_test == \"Chinstrap\", y_preds_dt == \"Chinstrap\", average = \"macro\"))\n",
        "print(\"F1 score:\", f1_score(y_test == \"Chinstrap\", y_preds_dt == \"Chinstrap\", average = \"binary\"))"
      ]
    },
    {
      "cell_type": "code",
      "execution_count": 120,
      "metadata": {
        "colab": {
          "base_uri": "https://localhost:8080/"
        },
        "id": "K4GtcRl5WnIA",
        "outputId": "42ed4a5f-f1c0-4ac4-92c1-aa3f72e69a57"
      },
      "outputs": [
        {
          "name": "stdout",
          "output_type": "stream",
          "text": [
            "Precision score: 1.0\n",
            "Recall score: 0.9166666666666666\n",
            "AUC: 0.9583333333333333\n",
            "F1 score: 0.9565217391304348\n",
            "Precision score: 1.0\n",
            "Recall score: 0.9166666666666666\n",
            "AUC: 0.9583333333333333\n",
            "F1 score: 0.9565217391304348\n"
          ]
        }
      ],
      "source": [
        "# Precision, Recall, AUC, and F1-score for Gentoo\n",
        "print(\"Precision score:\", precision_score(y_test == \"Gentoo\", y_preds_dt == \"Gentoo\", average = \"binary\"))\n",
        "print(\"Recall score:\", recall_score(y_test == \"Gentoo\", y_preds_dt == \"Gentoo\", average = \"binary\"))\n",
        "print(\"AUC:\", roc_auc_score(y_test == \"Gentoo\", y_preds_dt == \"Gentoo\", average = \"macro\"))\n",
        "print(\"F1 score:\", f1_score(y_test == \"Gentoo\", y_preds_dt == \"Gentoo\", average = \"binary\"))"
      ]
    },
    {
      "cell_type": "markdown",
      "metadata": {
        "id": "N_qBbsP2ZeVN"
      },
      "source": [
        "# Decision tree model (min_impurity_decrease=0.1)"
      ]
    },
    {
      "cell_type": "code",
      "execution_count": 121,
      "metadata": {
        "colab": {
          "base_uri": "https://localhost:8080/"
        },
        "id": "RdCgVyZ_WxMT",
        "outputId": "4dd73f36-f9b0-4d54-83b7-f6903b7512cf"
      },
      "outputs": [
        {
          "data": {
            "text/plain": [
              "array([[28,  1,  0],\n",
              "       [ 1, 13,  0],\n",
              "       [ 0,  2, 22]])"
            ]
          },
          "execution_count": null,
          "metadata": {},
          "output_type": "execute_result"
        }
      ],
      "source": [
        "# Confusion matrix\n",
        "dt_classification_pipeline_2_fitted = dt_classification_pipeline_2.fit(X_train, y_train)\n",
        "y_preds_dt_2 = dt_classification_pipeline_2_fitted.predict(X_test)\n",
        "\n",
        "confusion_matrix(y_test, y_preds_dt_2)"
      ]
    },
    {
      "cell_type": "code",
      "execution_count": 122,
      "metadata": {
        "colab": {
          "base_uri": "https://localhost:8080/"
        },
        "id": "U8GotRteZkLC",
        "outputId": "0bbbfb98-a319-44f5-d8f9-610f01bc478f"
      },
      "outputs": [
        {
          "data": {
            "text/plain": [
              "0.9402985074626866"
            ]
          },
          "execution_count": null,
          "metadata": {},
          "output_type": "execute_result"
        }
      ],
      "source": [
        "# Overall accuracy\n",
        "accuracy_score(y_test, y_preds_dt_2)"
      ]
    },
    {
      "cell_type": "code",
      "execution_count": 123,
      "metadata": {
        "colab": {
          "base_uri": "https://localhost:8080/"
        },
        "id": "1vfI1m22ZpW2",
        "outputId": "6320f869-80f4-4336-fa95-a49bc2abab9f"
      },
      "outputs": [
        {
          "name": "stdout",
          "output_type": "stream",
          "text": [
            "Precision score: 0.9655172413793104\n",
            "Recall score: 0.9655172413793104\n",
            "AUC: 0.9696007259528131\n",
            "F1 score: 0.9655172413793104\n",
            "Precision score: 0.9655172413793104\n",
            "Recall score: 0.9655172413793104\n",
            "AUC: 0.9696007259528131\n",
            "F1 score: 0.9655172413793104\n"
          ]
        }
      ],
      "source": [
        "# Precision, Recall, AUC, and F1-score for Adelie\n",
        "print(\"Precision score:\", precision_score(y_test == \"Adelie\", y_preds_dt_2 == \"Adelie\", average = \"binary\"))\n",
        "print(\"Recall score:\", recall_score(y_test == \"Adelie\", y_preds_dt_2 == \"Adelie\", average = \"binary\"))\n",
        "print(\"AUC:\", roc_auc_score(y_test == \"Adelie\", y_preds_dt_2 == \"Adelie\", average = \"macro\"))\n",
        "print(\"F1 score:\", f1_score(y_test == \"Adelie\", y_preds_dt_2 == \"Adelie\", average = \"binary\"))"
      ]
    },
    {
      "cell_type": "code",
      "execution_count": 124,
      "metadata": {
        "colab": {
          "base_uri": "https://localhost:8080/"
        },
        "id": "xWLb54G3Z4gl",
        "outputId": "8c518ffc-ce3d-4c49-edcf-ef45498a6279"
      },
      "outputs": [
        {
          "name": "stdout",
          "output_type": "stream",
          "text": [
            "Precision score: 0.8125\n",
            "Recall score: 0.9285714285714286\n",
            "AUC: 0.9359838274932615\n",
            "F1 score: 0.8666666666666666\n",
            "Precision score: 0.8125\n",
            "Recall score: 0.9285714285714286\n",
            "AUC: 0.9359838274932615\n",
            "F1 score: 0.8666666666666666\n"
          ]
        }
      ],
      "source": [
        "# Precision, Recall, AUC, and F1-score for Chinstrap\n",
        "print(\"Precision score:\", precision_score(y_test == \"Chinstrap\", y_preds_dt_2 == \"Chinstrap\", average = \"binary\"))\n",
        "print(\"Recall score:\", recall_score(y_test == \"Chinstrap\", y_preds_dt_2 == \"Chinstrap\", average = \"binary\"))\n",
        "print(\"AUC:\", roc_auc_score(y_test == \"Chinstrap\", y_preds_dt_2 == \"Chinstrap\", average = \"macro\"))\n",
        "print(\"F1 score:\", f1_score(y_test == \"Chinstrap\", y_preds_dt_2 == \"Chinstrap\", average = \"binary\"))"
      ]
    },
    {
      "cell_type": "code",
      "execution_count": 125,
      "metadata": {
        "colab": {
          "base_uri": "https://localhost:8080/"
        },
        "id": "gSEwod2WbpZX",
        "outputId": "2a2b5510-f5a2-419b-f1e7-d55b723154e2"
      },
      "outputs": [
        {
          "name": "stdout",
          "output_type": "stream",
          "text": [
            "Precision score: 1.0\n",
            "Recall score: 0.9166666666666666\n",
            "AUC: 0.9583333333333333\n",
            "F1 score: 0.9565217391304348\n",
            "Precision score: 1.0\n",
            "Recall score: 0.9166666666666666\n",
            "AUC: 0.9583333333333333\n",
            "F1 score: 0.9565217391304348\n"
          ]
        }
      ],
      "source": [
        "# Precision, Recall, AUC, and F1-score for Gentoo\n",
        "print(\"Precision score:\", precision_score(y_test == \"Gentoo\", y_preds_dt_2 == \"Gentoo\", average = \"binary\"))\n",
        "print(\"Recall score:\", recall_score(y_test == \"Gentoo\", y_preds_dt_2 == \"Gentoo\", average = \"binary\"))\n",
        "print(\"AUC:\", roc_auc_score(y_test == \"Gentoo\", y_preds_dt_2 == \"Gentoo\", average = \"macro\"))\n",
        "print(\"F1 score:\", f1_score(y_test == \"Gentoo\", y_preds_dt_2 == \"Gentoo\", average = \"binary\"))"
      ]
    },
    {
      "cell_type": "markdown",
      "metadata": {
        "id": "pf7NMEgve25V"
      },
      "source": [
        "# ROC plot for Chinstrap"
      ]
    },
    {
      "cell_type": "code",
      "execution_count": 126,
      "metadata": {
        "colab": {
          "base_uri": "https://localhost:8080/",
          "height": 497
        },
        "id": "uj-HThMDbsLw",
        "outputId": "d4b4d9af-3ae3-4b6d-98ec-54529cf45e3a"
      },
      "outputs": [
        {
          "data": {
            "image/png": "[encoded data removed]",
            "text/plain": [
              "<Figure size 640x480 with 1 Axes>"
            ]
          },
          "metadata": {},
          "output_type": "display_data"
        },
        {
          "data": {
            "text/plain": [
              "<Figure Size: (640 x 480)>"
            ]
          },
          "execution_count": null,
          "metadata": {},
          "output_type": "execute_result"
        }
      ],
      "source": [
        "# Convert test data and predictions where species==\"Chinstrap\" to binary integers\n",
        "y_test_new = (y_test == \"Chinstrap\").astype(int)\n",
        "y_preds_knn_new = (y_preds_knn == \"Chinstrap\").astype(int)\n",
        "y_preds_knn_2_new = (y_preds_knn_2 == \"Chinstrap\").astype(int)\n",
        "y_preds_dt_new = (y_preds_dt == \"Chinstrap\").astype(int)\n",
        "y_preds_dt_2_new = (y_preds_dt_2 == \"Chinstrap\").astype(int)\n",
        "\n",
        "# Calculate false positive rates and true positive rates for each model\n",
        "fpr_knn, tpr_knn, _ = roc_curve(y_test_new, y_preds_knn_new)\n",
        "fpr_knn_2, tpr_knn_2, _ = roc_curve(y_test_new, y_preds_knn_2_new)\n",
        "fpr_dt, tpr_dt, _ = roc_curve(y_test_new, y_preds_dt_new)\n",
        "fpr_dt_2, tpr_dt_2, _ = roc_curve(y_test_new, y_preds_dt_2_new)\n",
        "\n",
        "# Make df for plot\n",
        "roc_df = pd.DataFrame({\"fpr\": np.concatenate([fpr_knn, fpr_knn_2, fpr_dt, fpr_dt_2]), \"tpr\": np.concatenate([tpr_knn, tpr_knn_2, tpr_dt, tpr_dt_2]), \\\n",
        "                       \"model\": (([\"knn (k=5)\"] * 3) + ([\"knn_2 (k=20)\"] * 3) + ([\"dt (α=0.01)\"] * 3) + ([\"dt_2 (α=0.1)\"] * 3))})\n",
        "                        # all the arrays have a length of 3\n",
        "\n",
        "# Make the actual plot\n",
        "(ggplot(roc_df, aes(x=\"fpr\", y=\"tpr\", color=\"model\"))\n",
        "    + geom_line(size=1)\n",
        "    + labs(x=\"False positive rate\", y=\"True positive rate\", title=\"ROC plot where species is Chinstrap\"))"
      ]
    }
  ],
  "metadata": {
    "colab": {
      "provenance": []
    },
    "kernelspec": {
      "display_name": "Python 3",
      "name": "python3"
    },
    "language_info": {
      "name": "python"
    }
  },
  "nbformat": 4,
  "nbformat_minor": 0
}
