{
  "cells": [
    {
      "cell_type": "raw",
      "metadata": {
        "vscode": {
          "languageId": "raw"
        }
      },
      "source": [
        "---\n",
        "title: Decode a Message (Practice Activity 4.2)\n",
        "author: Megan Gibson\n",
        "format:\n",
        "    html:\n",
        "        toc: true\n",
        "        theme: default\n",
        "embed-resources: true\n",
        "---"
      ]
    },
    {
      "cell_type": "markdown",
      "metadata": {
        "id": "kPj76X_FP2uq"
      },
      "source": [
        "## Setup\n",
        "\n",
        "Run the code below to load the scrambled message:\n"
      ]
    },
    {
      "cell_type": "code",
      "execution_count": 49,
      "metadata": {
        "id": "YwkYMR2qP2ur"
      },
      "outputs": [],
      "source": [
        "import pandas as pd\n",
        "\n",
        "message = pd.read_csv(\"https://www.dropbox.com/s/lgpn3vmksk3ssdo/scrambled_message.txt?dl=1\")['Word']"
      ]
    },
    {
      "cell_type": "code",
      "execution_count": 50,
      "metadata": {
        "colab": {
          "base_uri": "https://localhost:8080/",
          "height": 458
        },
        "id": "rqykaCOxF1Z9",
        "outputId": "7f91caf9-7497-4aea-e886-d55d5d3ead04"
      },
      "outputs": [
        {
          "data": {
            "text/plain": [
              "0                    Koila!\n",
              "1                     In   \n",
              "2                     kiew,\n",
              "3                         a\n",
              "4                 humble   \n",
              "               ...         \n",
              "122                     you\n",
              "123                 mabugh.\n",
              "124              ughhh?call\n",
              "125        meugh.ughhhh!   \n",
              "126                      K.\n",
              "Name: Word, Length: 127, dtype: object"
            ]
          },
          "execution_count": null,
          "metadata": {},
          "output_type": "execute_result"
        }
      ],
      "source": [
        "message"
      ]
    },
    {
      "cell_type": "markdown",
      "metadata": {
        "id": "cI8ZE3LAP2us"
      },
      "source": [
        "In this activity, a \"word\" refers to any set of characters with no white space, even though they are not truly an English word.  That is, even though many of elements of the scrambled message vector are nonsense, and some have punctuation, you can consider each element to be a \"word\".\n",
        "\n",
        "Beware!  The object named `message` is a **pandas Series** of strings.  If you want to use functions that expect a string, rather than a series, remember `.apply()` and `lambda` functions.\n",
        "\n"
      ]
    },
    {
      "cell_type": "markdown",
      "metadata": {
        "id": "dYISAD8uQLAy"
      },
      "source": [
        "\n",
        "## Warm-up exercises\n",
        "\n",
        "1. How many characters are in the scrambled message?\n",
        "2. How many of these characters are white space?\n",
        "3. How many words are in the scrambled message?\n",
        "4. Show all the punctuation marks in the scrambled message.\n",
        "5. Print out, in all capitals, the longest word in the scrambled message.\n",
        "6. Print out every piece of a word that starts with the letter \"m\" and ends with the letter \"z\" in the scrambled message."
      ]
    },
    {
      "cell_type": "code",
      "execution_count": 51,
      "metadata": {
        "colab": {
          "base_uri": "https://localhost:8080/"
        },
        "id": "6vB1tbjiQNvE",
        "outputId": "c77ace94-2b6a-4226-fd67-8543951d379e"
      },
      "outputs": [
        {
          "data": {
            "text/plain": [
              "2544"
            ]
          },
          "execution_count": null,
          "metadata": {},
          "output_type": "execute_result"
        }
      ],
      "source": [
        "#1 How many characters?\n",
        "message.apply(len).sum()"
      ]
    },
    {
      "cell_type": "code",
      "execution_count": 52,
      "metadata": {
        "colab": {
          "base_uri": "https://localhost:8080/"
        },
        "id": "V5eHrQdyudA0",
        "outputId": "04daee64-f817-4646-ed39-fab23ccb122e"
      },
      "outputs": [
        {
          "data": {
            "text/plain": [
              "1652"
            ]
          },
          "execution_count": null,
          "metadata": {},
          "output_type": "execute_result"
        }
      ],
      "source": [
        "#2 How much white space?\n",
        "import re\n",
        "message.apply(lambda x: len(re.findall(r\"\\s\", x))).sum()"
      ]
    },
    {
      "cell_type": "code",
      "execution_count": 53,
      "metadata": {
        "colab": {
          "base_uri": "https://localhost:8080/"
        },
        "id": "a2SjNTt6uf6x",
        "outputId": "1929c674-5fa3-4fbc-8c14-f370e27a1ce2"
      },
      "outputs": [
        {
          "data": {
            "text/plain": [
              "151"
            ]
          },
          "execution_count": null,
          "metadata": {},
          "output_type": "execute_result"
        }
      ],
      "source": [
        "#3 How many words?\n",
        "message.apply(lambda x: len(re.findall(r\"\\w+\", x))).explode().sum()"
      ]
    },
    {
      "cell_type": "code",
      "execution_count": 54,
      "metadata": {
        "colab": {
          "base_uri": "https://localhost:8080/",
          "height": 1000
        },
        "id": "suv4Z6-auhIH",
        "outputId": "32c39005-5dea-4e9e-dddf-ab2def08ab75"
      },
      "outputs": [
        {
          "data": {
            "text/plain": [
              "0        !\n",
              "2        ,\n",
              "5        ?\n",
              "6        ,\n",
              "12       !\n",
              "17       !\n",
              "18       .\n",
              "19       !\n",
              "20       ,\n",
              "21       !\n",
              "22     ? ?\n",
              "24     ? ?\n",
              "25     ? ,\n",
              "26       ?\n",
              "32       !\n",
              "34       ,\n",
              "35     . ?\n",
              "36       ,\n",
              "45       ,\n",
              "46       !\n",
              "47       .\n",
              "49       !\n",
              "52       ?\n",
              "53       !\n",
              "54       !\n",
              "55       ,\n",
              "58       .\n",
              "60       ?\n",
              "64       ?\n",
              "65       ?\n",
              "68     . ?\n",
              "69     ? .\n",
              "72       .\n",
              "75     ? ,\n",
              "76       !\n",
              "77       !\n",
              "82       ,\n",
              "83       .\n",
              "86       ?\n",
              "88       .\n",
              "91       ?\n",
              "92       .\n",
              "94       !\n",
              "95       !\n",
              "98       .\n",
              "102      !\n",
              "103      !\n",
              "105      ?\n",
              "106      ,\n",
              "111      !\n",
              "115      ?\n",
              "117      .\n",
              "118      !\n",
              "119      !\n",
              "121      !\n",
              "123      .\n",
              "124      ?\n",
              "125    . !\n",
              "126      .\n",
              "Name: Word, dtype: object"
            ]
          },
          "execution_count": null,
          "metadata": {},
          "output_type": "execute_result"
        }
      ],
      "source": [
        "#4 Show all punctuation marks\n",
        "message.apply(lambda x: \" \".join(re.findall(r\"[.!?,]\", x))).loc[lambda x: x.str.len() > 0]"
      ]
    },
    {
      "cell_type": "code",
      "execution_count": 56,
      "metadata": {
        "colab": {
          "base_uri": "https://localhost:8080/",
          "height": 35
        },
        "id": "FjJkxtn8ujcj",
        "outputId": "e2b6b07a-acac-4d7b-b6b5-0bb1acfc348e"
      },
      "outputs": [
        {
          "data": {
            "text/plain": [
              "'KAUDEVILLIANUGH'"
            ]
          },
          "execution_count": null,
          "metadata": {},
          "output_type": "execute_result"
        }
      ],
      "source": [
        "#5 Print longest word in all caps\n",
        "words = message.apply(lambda x: re.findall(r\"\\w+\", x)).explode()\n",
        "words.iloc[words.str.len().idxmax()].upper()"
      ]
    },
    {
      "cell_type": "code",
      "execution_count": 68,
      "metadata": {
        "colab": {
          "base_uri": "https://localhost:8080/",
          "height": 84
        },
        "id": "HQ55bb6MulaE",
        "outputId": "8afe3fe7-bea4-48dd-ed77-908e0e8fe1b4"
      },
      "outputs": [
        {
          "data": {
            "text/plain": [
              "119    maaz\n",
              "Name: Word, dtype: object"
            ]
          },
          "execution_count": null,
          "metadata": {},
          "output_type": "execute_result"
        }
      ],
      "source": [
        "#6 Print words that start with \"m\" and end with \"z\"\n",
        "words[words.str.contains(r'^m.*z$', regex=True)]"
      ]
    },
    {
      "cell_type": "markdown",
      "metadata": {
        "id": "l3iJnnCJQOh7"
      },
      "source": [
        "\n",
        "\n",
        "## Decode a message\n",
        "\n",
        "Complete the following steps to decode the message.  \n",
        "\n",
        "1. Remove any spaces before or after each word.\n",
        "2. Any time you see the word \"ugh\", with any number of h's, followed by a punctuation mark, delete this.\n",
        "3. No word should be longer than 16 characters. Drop all extra characters beyond 13 off the end of each word.\n",
        "4. Replace all instances of exactly 2 a's with exactly 2 e's.\n",
        "5. Replace all z's with t's.\n",
        "6. Every word that ends in b, change that to a y.  *Hint: look out for punctuation!*\n",
        "7. Every word that starts with k, change that to a v.  *Hint: look out for capitalization!*\n",
        "8. Use `.join()` to recombine all your words into a message.\n",
        "9. Find the movie this quote is from."
      ]
    },
    {
      "cell_type": "code",
      "execution_count": 70,
      "metadata": {
        "id": "RRfjUzxMQQ5j"
      },
      "outputs": [],
      "source": [
        "#1 Remove spaces before and after each word\n",
        "message_new = message.apply(lambda x: x.strip())"
      ]
    },
    {
      "cell_type": "code",
      "execution_count": 71,
      "metadata": {
        "colab": {
          "base_uri": "https://localhost:8080/",
          "height": 458
        },
        "id": "iB6CGuRuP1aR",
        "outputId": "148bb076-116b-4457-ec71-d6950ffae9c8"
      },
      "outputs": [],
      "source": [
        "#2 Delete \"ugh\"'s followed by punctuation\n",
        "message_new = message_new.apply(lambda x: re.sub(r\"ughh*\\W\", \"\", x))"
      ]
    },
    {
      "cell_type": "code",
      "execution_count": 33,
      "metadata": {
        "id": "lASbStv-R3ub"
      },
      "outputs": [],
      "source": [
        "#3 Drop anything beyond 13th character\n",
        "message_new = message_new.apply(lambda x: \" \".join([word[:12] for word in x.split()]))"
      ]
    },
    {
      "cell_type": "code",
      "execution_count": 72,
      "metadata": {
        "id": "_m5KBa8ZYQOI"
      },
      "outputs": [],
      "source": [
        "#4 Replace \"aa\" with \"ee\"\n",
        "message_new = message_new.apply(lambda x: re.sub(\"aa\", \"ee\", x))"
      ]
    },
    {
      "cell_type": "code",
      "execution_count": 73,
      "metadata": {
        "id": "J2k7GXmyyx_o"
      },
      "outputs": [],
      "source": [
        "#5 Replace all z's with t's\n",
        "message_new = message_new.apply(lambda x: re.sub(\"z\", \"t\", x))"
      ]
    },
    {
      "cell_type": "code",
      "execution_count": 36,
      "metadata": {
        "id": "5BtSvvHVfO9T"
      },
      "outputs": [],
      "source": [
        "#6 Change \"b\" to \"y\" if word ends with \"b\"\n",
        "message_new = message_new.apply(lambda x: \" \".join([word[:-1] + \"y\" if word.endswith(\"b\") else word for word in x.split()]))"
      ]
    },
    {
      "cell_type": "code",
      "execution_count": 37,
      "metadata": {
        "id": "_rB8K9RgeuUK"
      },
      "outputs": [],
      "source": [
        "#7 Change \"k\" to \"v\" if word starts with \"k\"\n",
        "message_new = message_new.apply(lambda x: \" \".join([\"v\" + word[1:] if word.lower().startswith(\"k\") else word for word in x.split()]))"
      ]
    },
    {
      "cell_type": "code",
      "execution_count": 38,
      "metadata": {
        "colab": {
          "base_uri": "https://localhost:8080/",
          "height": 107
        },
        "id": "iaav6DpWfnWe",
        "outputId": "fd9038b0-09cf-4146-c29f-f8abd3aad403"
      },
      "outputs": [
        {
          "data": {
            "text/plain": [
              "'voila! In view, a humble vaudevillian veteran, cast vicariously as both victim and villain by the vicissitudes of fate. This visage, no mere veneer of vanity, is a vestige of the vox populi now vacant, vanished. However, this valorous visitation of a bygone vexation stands vivified, and has vowed to vanquish these venal and virulent vermin, van guarding vice and vouchsafing the violently vicious and voracious violation of volition. The only verdict is vengeance; a vendetta, held as a votive not in vain, for the value and veracity of such shall one day vindicate the vigilant and the virtuous. verily this vichyssoise of verbiage veers most verbose, so let me simply add that its my very good honour to meet you and you may call me v.'"
            ]
          },
          "execution_count": null,
          "metadata": {},
          "output_type": "execute_result"
        }
      ],
      "source": [
        "#8 Join to recombine words into message\n",
        "\" \".join(message_new)"
      ]
    },
    {
      "cell_type": "markdown",
      "metadata": {
        "id": "oYwtgsWLgQcz"
      },
      "source": [
        "**#9 What movie is this quote from?**\n",
        "\n",
        "\n",
        "**Answer:** *V For Vendetta* (2005)"
      ]
    }
  ],
  "metadata": {
    "colab": {
      "provenance": []
    },
    "kernelspec": {
      "display_name": "Python 3",
      "language": "python",
      "name": "python3"
    },
    "language_info": {
      "name": "python"
    }
  },
  "nbformat": 4,
  "nbformat_minor": 0
}
