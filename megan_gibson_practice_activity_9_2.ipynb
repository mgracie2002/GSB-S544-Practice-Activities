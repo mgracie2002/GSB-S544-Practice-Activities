{
  "cells": [
    {
      "cell_type": "raw",
      "metadata": {
        "vscode": {
          "languageId": "raw"
        }
      },
      "source": [
        "---\n",
        "title: Multiclass (Practice Activity 9.2)\n",
        "author: Megan Gibson\n",
        "format:\n",
        "    html:\n",
        "        toc: true\n",
        "        theme: default\n",
        "embed-resources: true\n",
        "---"
      ]
    },
    {
      "cell_type": "markdown",
      "metadata": {
        "id": "P_N9XP2-04VH"
      },
      "source": [
        "\n",
        "Our dataset consists of clinical data from patients who entered the hospital complaining of chest pain (\"angina\") during exercise.  The information collected includes:\n",
        "\n",
        "* `age` : Age of the patient\n",
        "\n",
        "* `sex` : Sex of the patient\n",
        "\n",
        "* `cp` : Chest Pain type\n",
        "\n",
        "    + Value 0: asymptomatic\n",
        "    + Value 1: typical angina\n",
        "    + Value 2: atypical angina\n",
        "    + Value 3: non-anginal pain\n",
        "   \n",
        "    \n",
        "* `trtbps` : resting blood pressure (in mm Hg)\n",
        "\n",
        "* `chol` : cholesterol in mg/dl fetched via BMI sensor\n",
        "\n",
        "* `restecg` : resting electrocardiographic results\n",
        "\n",
        "    + Value 0: normal\n",
        "    + Value 1: having ST-T wave abnormality (T wave inversions and/or ST elevation or depression of > 0.05 mV)\n",
        "    + Value 2: showing probable or definite left ventricular hypertrophy by Estes' criteria\n",
        "\n",
        "* `thalach` : maximum heart rate achieved during exercise\n",
        "\n",
        "* `output` : the doctor's diagnosis of whether the patient is at risk for a heart attack\n",
        "    + 0 = not at risk of heart attack\n",
        "    + 1 = at risk of heart attack"
      ]
    },
    {
      "cell_type": "code",
      "execution_count": 16,
      "metadata": {
        "id": "tZmjmGGQ1CaN"
      },
      "outputs": [],
      "source": [
        "## library imports here\n",
        "import pandas as pd\n",
        "import numpy as np\n",
        "from sklearn.neighbors import KNeighborsClassifier\n",
        "from sklearn.pipeline import Pipeline\n",
        "from sklearn.compose import make_column_selector, ColumnTransformer\n",
        "from sklearn.preprocessing import StandardScaler, OneHotEncoder\n",
        "from sklearn.model_selection import StratifiedKFold, GridSearchCV, train_test_split\n",
        "from sklearn.tree import DecisionTreeClassifier, plot_tree\n",
        "from sklearn.discriminant_analysis import LinearDiscriminantAnalysis\n",
        "from sklearn.linear_model import LogisticRegression\n",
        "from plotnine import *\n",
        "from sklearn.metrics import f1_score, roc_auc_score\n",
        "import warnings"
      ]
    },
    {
      "cell_type": "code",
      "execution_count": 2,
      "metadata": {
        "id": "ghXbwhv600-S"
      },
      "outputs": [],
      "source": [
        "ha = pd.read_csv(\"https://www.dropbox.com/s/aohbr6yb9ifmc8w/heart_attack.csv?dl=1\")"
      ]
    },
    {
      "cell_type": "code",
      "execution_count": 3,
      "metadata": {
        "colab": {
          "base_uri": "https://localhost:8080/",
          "height": 335
        },
        "id": "eeYrAiBbUPDP",
        "outputId": "0c3053ff-5120-4c43-fd54-e5ac083193fb"
      },
      "outputs": [
        {
          "data": {
            "text/plain": [
              "age        int64\n",
              "sex        int64\n",
              "cp         int64\n",
              "trtbps     int64\n",
              "chol       int64\n",
              "restecg    int64\n",
              "thalach    int64\n",
              "output     int64\n",
              "dtype: object"
            ]
          },
          "execution_count": null,
          "metadata": {},
          "output_type": "execute_result"
        }
      ],
      "source": [
        "# Check data types\n",
        "ha.dtypes"
      ]
    },
    {
      "cell_type": "code",
      "execution_count": 4,
      "metadata": {
        "id": "v2O8g0rWUSlE"
      },
      "outputs": [],
      "source": [
        "# Convert variables that should be categorical to categorical\n",
        "ha[\"sex\"] = ha[\"sex\"].astype(str)\n",
        "ha[\"cp\"] = ha[\"cp\"].astype(str)\n",
        "ha[\"restecg\"] = ha[\"restecg\"].astype(str)\n",
        "ha[\"output\"] = ha[\"output\"].astype(str)"
      ]
    },
    {
      "cell_type": "markdown",
      "metadata": {
        "id": "OCX180v41bhe"
      },
      "source": [
        "## Q1: Natural Multiclass Models\n",
        "\n",
        "Fit a multiclass KNN, Decision Tree, and LDA for the heart disease data; this time predicting the type of chest pain (categories 0 - 3) that a patient experiences.  For the decision tree, plot the fitted tree, and interpret the first couple splits.\n"
      ]
    },
    {
      "cell_type": "code",
      "execution_count": 5,
      "metadata": {
        "id": "WJsMBCZh1glq"
      },
      "outputs": [],
      "source": [
        "# Define X and y\n",
        "y = ha[\"cp\"]\n",
        "X = ha.drop(\"cp\", axis=1)"
      ]
    },
    {
      "cell_type": "code",
      "execution_count": 6,
      "metadata": {
        "colab": {
          "base_uri": "https://localhost:8080/"
        },
        "id": "bQo-6aiwWjgD",
        "outputId": "90b20043-ecfd-4070-d97e-d35dc6dc039a"
      },
      "outputs": [
        {
          "name": "stdout",
          "output_type": "stream",
          "text": [
            "Best k: {'knn_classification__n_neighbors': 82}\n",
            "Best ROC AUC: 0.667327268728004\n",
            "Best k: {'knn_classification__n_neighbors': 82}\n",
            "Best ROC AUC: 0.667327268728004\n"
          ]
        }
      ],
      "source": [
        "# Fit multiclass KNN\n",
        "warnings.filterwarnings(\"ignore\", category=UserWarning)\n",
        "\n",
        "ct = ColumnTransformer(\n",
        "  [\n",
        "    (\"dummify\",\n",
        "    OneHotEncoder(drop=\"first\", sparse_output = False, handle_unknown=\"ignore\"),\n",
        "    make_column_selector(dtype_include=object)),\n",
        "    (\"standardize\",\n",
        "    StandardScaler(),\n",
        "    make_column_selector(dtype_include=np.number))\n",
        "  ],\n",
        "  remainder = \"passthrough\"\n",
        ")\n",
        "\n",
        "knn_classification_pipeline = Pipeline(\n",
        "  [(\"preprocessing\", ct),\n",
        "  (\"knn_classification\", KNeighborsClassifier())]\n",
        ")\n",
        "\n",
        "stratified_cv = StratifiedKFold(n_splits=5, shuffle=True, random_state=42)\n",
        "param_grid = {\"knn_classification__n_neighbors\": range(1, 101)}\n",
        "gscv = GridSearchCV(knn_classification_pipeline, param_grid, scoring=\"roc_auc_ovo\", cv=stratified_cv)\n",
        "gscv.fit(X, y)\n",
        "\n",
        "print(f\"Best k: {gscv.best_params_}\")\n",
        "print(f\"Best ROC AUC: {gscv.best_score_}\")"
      ]
    },
    {
      "cell_type": "code",
      "execution_count": 7,
      "metadata": {
        "id": "skumNxcEZoY3"
      },
      "outputs": [],
      "source": [
        "knn_classification_pipeline = Pipeline(\n",
        "  [(\"preprocessing\", ct),\n",
        "  (\"knn_classification\", KNeighborsClassifier(n_neighbors=82))]\n",
        ")\n",
        "\n",
        "knn_fit = knn_classification_pipeline.fit(X, y)"
      ]
    },
    {
      "cell_type": "code",
      "execution_count": 28,
      "metadata": {
        "colab": {
          "base_uri": "https://localhost:8080/"
        },
        "id": "2GbUqURBZIYb",
        "outputId": "b462d8f4-f7bd-4bda-9e38-fa9b02500071"
      },
      "outputs": [
        {
          "name": "stdout",
          "output_type": "stream",
          "text": [
            "Best hyperparameters: {'dt_classification__ccp_alpha': 0.01, 'dt_classification__max_depth': 3, 'dt_classification__min_impurity_decrease': 0.0, 'dt_classification__min_samples_leaf': 1}\n",
            "Best ROC AUC: 0.6693727794536619\n",
            "Best hyperparameters: {'dt_classification__ccp_alpha': 0.01, 'dt_classification__max_depth': 3, 'dt_classification__min_impurity_decrease': 0.0, 'dt_classification__min_samples_leaf': 1}\n",
            "Best ROC AUC: 0.6693727794536619\n"
          ]
        },
        {
          "name": "stderr",
          "output_type": "stream",
          "text": [
            "/Users/megangibson/anaconda3/lib/python3.11/site-packages/sklearn/model_selection/_validation.py:425: FitFailedWarning: \n",
            "1680 fits failed out of a total of 9680.\n",
            "The score on these train-test partitions for these parameters will be set to nan.\n",
            "If these failures are not expected, you can try to debug them by setting error_score='raise'.\n",
            "\n",
            "Below are more details about the failures:\n",
            "--------------------------------------------------------------------------------\n",
            "880 fits failed with the following error:\n",
            "Traceback (most recent call last):\n",
            "  File \"/Users/megangibson/anaconda3/lib/python3.11/site-packages/sklearn/model_selection/_validation.py\", line 732, in _fit_and_score\n",
            "    estimator.fit(X_train, y_train, **fit_params)\n",
            "  File \"/Users/megangibson/anaconda3/lib/python3.11/site-packages/sklearn/base.py\", line 1151, in wrapper\n",
            "    return fit_method(estimator, *args, **kwargs)\n",
            "           ^^^^^^^^^^^^^^^^^^^^^^^^^^^^^^^^^^^^^^\n",
            "  File \"/Users/megangibson/anaconda3/lib/python3.11/site-packages/sklearn/pipeline.py\", line 420, in fit\n",
            "    self._final_estimator.fit(Xt, y, **fit_params_last_step)\n",
            "  File \"/Users/megangibson/anaconda3/lib/python3.11/site-packages/sklearn/base.py\", line 1144, in wrapper\n",
            "    estimator._validate_params()\n",
            "  File \"/Users/megangibson/anaconda3/lib/python3.11/site-packages/sklearn/base.py\", line 637, in _validate_params\n",
            "    validate_parameter_constraints(\n",
            "  File \"/Users/megangibson/anaconda3/lib/python3.11/site-packages/sklearn/utils/_param_validation.py\", line 95, in validate_parameter_constraints\n",
            "    raise InvalidParameterError(\n",
            "sklearn.utils._param_validation.InvalidParameterError: The 'max_depth' parameter of DecisionTreeClassifier must be an int in the range [1, inf) or None. Got 0 instead.\n",
            "\n",
            "--------------------------------------------------------------------------------\n",
            "800 fits failed with the following error:\n",
            "Traceback (most recent call last):\n",
            "  File \"/Users/megangibson/anaconda3/lib/python3.11/site-packages/sklearn/model_selection/_validation.py\", line 732, in _fit_and_score\n",
            "    estimator.fit(X_train, y_train, **fit_params)\n",
            "  File \"/Users/megangibson/anaconda3/lib/python3.11/site-packages/sklearn/base.py\", line 1151, in wrapper\n",
            "    return fit_method(estimator, *args, **kwargs)\n",
            "           ^^^^^^^^^^^^^^^^^^^^^^^^^^^^^^^^^^^^^^\n",
            "  File \"/Users/megangibson/anaconda3/lib/python3.11/site-packages/sklearn/pipeline.py\", line 420, in fit\n",
            "    self._final_estimator.fit(Xt, y, **fit_params_last_step)\n",
            "  File \"/Users/megangibson/anaconda3/lib/python3.11/site-packages/sklearn/base.py\", line 1144, in wrapper\n",
            "    estimator._validate_params()\n",
            "  File \"/Users/megangibson/anaconda3/lib/python3.11/site-packages/sklearn/base.py\", line 637, in _validate_params\n",
            "    validate_parameter_constraints(\n",
            "  File \"/Users/megangibson/anaconda3/lib/python3.11/site-packages/sklearn/utils/_param_validation.py\", line 95, in validate_parameter_constraints\n",
            "    raise InvalidParameterError(\n",
            "sklearn.utils._param_validation.InvalidParameterError: The 'min_samples_leaf' parameter of DecisionTreeClassifier must be an int in the range [1, inf) or a float in the range (0.0, 1.0). Got 0 instead.\n",
            "\n"
          ]
        }
      ],
      "source": [
        "# Fit multiclass Decision Tree\n",
        "\n",
        "dt_classification_pipeline = Pipeline(\n",
        "    [(\"dt_classification\", DecisionTreeClassifier(random_state=42))]\n",
        ")\n",
        "\n",
        "param_grid = {\n",
        "    \"dt_classification__max_depth\": range(0, 11, 1),\n",
        "    \"dt_classification__min_impurity_decrease\": [0.0, 0.001, 0.01, 0.1],\n",
        "    \"dt_classification__min_samples_leaf\": range(0, 11, 1),\n",
        "    \"dt_classification__ccp_alpha\": [0.0, 0.01, 0.1, 1.0]\n",
        "}\n",
        "\n",
        "gscv = GridSearchCV(dt_classification_pipeline, param_grid, cv=stratified_cv, scoring=\"roc_auc_ovo\")\n",
        "gscv.fit(X, y)\n",
        "\n",
        "print(\"Best hyperparameters:\", gscv.best_params_)\n",
        "print(f\"Best ROC AUC: {gscv.best_score_}\")"
      ]
    },
    {
      "cell_type": "code",
      "execution_count": 33,
      "metadata": {
        "id": "OiQsNqRqbaFg"
      },
      "outputs": [],
      "source": [
        "dt_classification_pipeline = Pipeline(\n",
        "    [(\"dt_classification\", DecisionTreeClassifier(ccp_alpha=0.01, max_depth=3, min_samples_leaf=1, random_state=42))]\n",
        ")\n",
        "\n",
        "dt_fit = dt_classification_pipeline.fit(X, y)"
      ]
    },
    {
      "cell_type": "code",
      "execution_count": 10,
      "metadata": {
        "colab": {
          "base_uri": "https://localhost:8080/"
        },
        "id": "Ayml9DQIby8Z",
        "outputId": "36746ab0-d8b6-4da9-bef7-a6792e9e0f75"
      },
      "outputs": [
        {
          "data": {
            "text/plain": [
              "0.7288690215231014"
            ]
          },
          "execution_count": null,
          "metadata": {},
          "output_type": "execute_result"
        }
      ],
      "source": [
        "# Fit multiclass LDA\n",
        "lda_pipeline = Pipeline(\n",
        "    [(\"preprocessing\", ct),\n",
        "     (\"lda\", LinearDiscriminantAnalysis())])\n",
        "\n",
        "\n",
        "lda_fit = lda_pipeline.fit(X, y)\n",
        "y_numeric = y.astype(int)\n",
        "lda_preds = lda_fit.predict_proba(X)\n",
        "roc_auc_score(y_numeric, lda_preds, multi_class=\"ovo\")"
      ]
    },
    {
      "cell_type": "code",
      "execution_count": 34,
      "metadata": {
        "colab": {
          "base_uri": "https://localhost:8080/",
          "height": 1000
        },
        "id": "U1BTRsRwKwCE",
        "outputId": "f9228c8a-40f9-4a0d-a842-470e46492910"
      },
      "outputs": [
        {
          "data": {
            "text/plain": [
              "[Text(0.4, 0.875, 'output <= 0.5\\ngini = 0.661\\nsamples = 273\\nvalue = [128, 44, 81, 20]'),\n",
              " Text(0.2, 0.625, 'gini = 0.425\\nsamples = 127\\nvalue = [94, 8, 18, 7]'),\n",
              " Text(0.6, 0.625, 'trtbps <= 143.5\\ngini = 0.691\\nsamples = 146\\nvalue = [34, 36, 63, 13]'),\n",
              " Text(0.4, 0.375, 'thalach <= 152.5\\ngini = 0.674\\nsamples = 122\\nvalue = [31, 34, 52, 5]'),\n",
              " Text(0.2, 0.125, 'gini = 0.641\\nsamples = 40\\nvalue = [17, 5, 16, 2]'),\n",
              " Text(0.6, 0.125, 'gini = 0.652\\nsamples = 82\\nvalue = [14, 29, 36, 3]'),\n",
              " Text(0.8, 0.375, 'gini = 0.656\\nsamples = 24\\nvalue = [3, 2, 11, 8]')]"
            ]
          },
          "execution_count": null,
          "metadata": {},
          "output_type": "execute_result"
        },
        {
          "data": {
            "image/png": "[encoded data removed]",
            "text/plain": [
              "<Figure size 640x480 with 1 Axes>"
            ]
          },
          "metadata": {},
          "output_type": "display_data"
        }
      ],
      "source": [
        "# Make decision tree plot\n",
        "dt_model = dt_fit.named_steps[\"dt_classification\"]\n",
        "feature_names = X.columns.tolist()\n",
        "plot_tree(dt_model, feature_names=feature_names, filled=True)"
      ]
    },
    {
      "cell_type": "markdown",
      "metadata": {
        "id": "hYF8pHeAcWRe"
      },
      "source": [
        "\n",
        "\n",
        "The first split occurs on the `output` variable. If `output==0`, then it's most likely that the patient has the `cp` type of 0, meaning they are asymptomatic (94 out of 127 samples). This makes sense because if a patient has no symptoms of a heart attack, it's less likely that they are having one. If `output==1`, then 63 of the 146 patients in the sample had type 2 chest pain, 34 were asymptomatic, 36 had type 1, and 13 had type 3. If `output==1`, the next split occurs on the `trtbps` variable, a continuous variable representing blood pressure. If `trtbps` is less than or equal to 143.5, which is true for the vast majority of patients in the sample (122 out of 146), then the most common target class is `cp==2` (at 52 out of 122). For the few who had blood pressure greater than 143.5, `cp==2` and `cp==3` were the most common chest pain classes (at 11 and 8 out of 24, respectively). \n",
        "\n"
      ]
    },
    {
      "cell_type": "markdown",
      "metadata": {
        "id": "gYqpOtbO1EAJ"
      },
      "source": [
        "## Q2:  OvR\n",
        "\n",
        "Create a new column in the `ha` dataset called `cp_is_3`, which is equal to `1` if the `cp` variable is equal to `3` and `0` otherwise.\n",
        "\n",
        "Then, fit a Logistic Regression to predict this new target, and report the **F1 Score**.\n",
        "\n",
        "Repeat for the other three `cp` categories.  Which category was the OvR approach best at distinguishing?"
      ]
    },
    {
      "cell_type": "code",
      "execution_count": 39,
      "metadata": {
        "id": "90PfjsjW1T2Y"
      },
      "outputs": [],
      "source": [
        "# Define function that returns 1 where cp is 3 and 0 otherwise\n",
        "def cp_is_3(x):\n",
        "  if x == \"3\":\n",
        "    return 1\n",
        "  else:\n",
        "    return 0\n",
        "\n",
        "# Create new variable applying this function\n",
        "ha[\"cp_is_3\"] = ha[\"cp\"].apply(cp_is_3)"
      ]
    },
    {
      "cell_type": "code",
      "execution_count": 40,
      "metadata": {
        "colab": {
          "base_uri": "https://localhost:8080/"
        },
        "id": "ynhGoh_tfa5w",
        "outputId": "a84a85fb-8dbc-4776-8e73-5f283b0a061f"
      },
      "outputs": [
        {
          "data": {
            "text/plain": [
              "0.0"
            ]
          },
          "execution_count": null,
          "metadata": {},
          "output_type": "execute_result"
        }
      ],
      "source": [
        "# Fit logistic regression model with this new target in mind\n",
        "y = ha[\"cp_is_3\"]\n",
        "X = ha[[\"age\", \"sex\", \"trtbps\", \"chol\", \"restecg\", \"thalach\", \"output\"]]\n",
        "X_train, X_test, y_train, y_test = train_test_split(X, y, test_size=0.2, random_state=42, stratify=y)\n",
        "\n",
        "log_reg_pipeline = Pipeline(\n",
        "    [(\"preprocessing\", ct),\n",
        "     (\"log_reg\", LogisticRegression(random_state=42))]\n",
        ")\n",
        "\n",
        "log_reg_fit = log_reg_pipeline.fit(X_train, y_train)\n",
        "log_reg_preds = log_reg_fit.predict(X_test)\n",
        "\n",
        "f1_score(y_test, log_reg_preds)"
      ]
    },
    {
      "cell_type": "code",
      "execution_count": 41,
      "metadata": {
        "id": "l-3uCKvZQAYN"
      },
      "outputs": [],
      "source": [
        "# Define function that returns 1 where cp is 0 and 0 otherwise\n",
        "def cp_is_0(x):\n",
        "  if x == \"0\":\n",
        "    return 1\n",
        "  else:\n",
        "    return 0\n",
        "\n",
        "ha[\"cp_is_0\"] = ha[\"cp\"].apply(cp_is_0)"
      ]
    },
    {
      "cell_type": "code",
      "execution_count": 42,
      "metadata": {
        "colab": {
          "base_uri": "https://localhost:8080/"
        },
        "id": "cXzLu1ErQIc4",
        "outputId": "8eb67717-0d8f-40b2-f787-4598d7d48678"
      },
      "outputs": [
        {
          "data": {
            "text/plain": [
              "0.75"
            ]
          },
          "execution_count": null,
          "metadata": {},
          "output_type": "execute_result"
        }
      ],
      "source": [
        "# Fit logistic regression model with this new target in mind\n",
        "y = ha[\"cp_is_0\"]\n",
        "X_train, X_test, y_train, y_test = train_test_split(X, y, test_size=0.2, random_state=42, stratify=y)\n",
        "\n",
        "log_reg_pipeline = Pipeline(\n",
        "    [(\"preprocessing\", ct),\n",
        "     (\"log_reg\", LogisticRegression(random_state=42))]\n",
        ")\n",
        "\n",
        "log_reg_fit = log_reg_pipeline.fit(X_train, y_train)\n",
        "log_reg_preds = log_reg_fit.predict(X_test)\n",
        "\n",
        "f1_score(y_test, log_reg_preds)"
      ]
    },
    {
      "cell_type": "code",
      "execution_count": 43,
      "metadata": {
        "id": "RHZGRd1JSqGT"
      },
      "outputs": [],
      "source": [
        "# Define function that returns 1 where cp is 1 and 0 otherwise\n",
        "def cp_is_1(x):\n",
        "  if x == \"1\":\n",
        "    return 1\n",
        "  else:\n",
        "    return 0\n",
        "\n",
        "ha[\"cp_is_1\"] = ha[\"cp\"].apply(cp_is_1)"
      ]
    },
    {
      "cell_type": "code",
      "execution_count": 44,
      "metadata": {
        "colab": {
          "base_uri": "https://localhost:8080/"
        },
        "id": "NRWgwRT4Su63",
        "outputId": "d5010f65-acc7-49b4-db22-62abd1851e6c"
      },
      "outputs": [
        {
          "data": {
            "text/plain": [
              "0.0"
            ]
          },
          "execution_count": null,
          "metadata": {},
          "output_type": "execute_result"
        }
      ],
      "source": [
        "# Fit logistic regression model with this new target in mind\n",
        "y = ha[\"cp_is_1\"]\n",
        "X_train, X_test, y_train, y_test = train_test_split(X, y, test_size=0.2, random_state=42, stratify=y)\n",
        "\n",
        "llog_reg_pipeline = Pipeline(\n",
        "    [(\"preprocessing\", ct),\n",
        "     (\"log_reg\", LogisticRegression(random_state=42))]\n",
        ")\n",
        "\n",
        "log_reg_fit = log_reg_pipeline.fit(X_train, y_train)\n",
        "log_reg_preds = log_reg_fit.predict(X_test)\n",
        "\n",
        "f1_score(y_test, log_reg_preds)"
      ]
    },
    {
      "cell_type": "code",
      "execution_count": 45,
      "metadata": {
        "id": "-2ypzyx-S7ex"
      },
      "outputs": [],
      "source": [
        "# Define function that returns 1 where cp is 2 and 0 otherwise\n",
        "def cp_is_2(x):\n",
        "  if x == \"2\":\n",
        "    return 1\n",
        "  else:\n",
        "    return 0\n",
        "\n",
        "ha[\"cp_is_2\"] = ha[\"cp\"].apply(cp_is_2)"
      ]
    },
    {
      "cell_type": "code",
      "execution_count": 46,
      "metadata": {
        "colab": {
          "base_uri": "https://localhost:8080/"
        },
        "id": "HeFDhac7TCca",
        "outputId": "359411ee-2b38-4892-f012-0e4d5e73cb53"
      },
      "outputs": [
        {
          "data": {
            "text/plain": [
              "0.10526315789473684"
            ]
          },
          "execution_count": null,
          "metadata": {},
          "output_type": "execute_result"
        }
      ],
      "source": [
        "# Fit logistic regression model with this new target in mind\n",
        "y = ha[\"cp_is_2\"]\n",
        "X_train, X_test, y_train, y_test = train_test_split(X, y, test_size=0.2, random_state=42, stratify=y)\n",
        "\n",
        "log_reg_pipeline = Pipeline(\n",
        "    [(\"preprocessing\", ct),\n",
        "     (\"log_reg\", LogisticRegression(random_state=42))]\n",
        ")\n",
        "\n",
        "log_reg_fit = log_reg_pipeline.fit(X_train, y_train)\n",
        "log_reg_preds = log_reg_fit.predict(X_test)\n",
        "\n",
        "f1_score(y_test, log_reg_preds)"
      ]
    },
    {
      "cell_type": "markdown",
      "metadata": {},
      "source": [
        "\n",
        "\n",
        "The OvR approach was best at distinguishing between **`cp==0` and the others**, having the highest F1-score of 0.75.\n",
        "\n"
      ]
    },
    {
      "cell_type": "markdown",
      "metadata": {
        "id": "lXO3jbTU1ULR"
      },
      "source": [
        "## Q3: OvO\n",
        "\n",
        "Reduce your dataset to only the `0` and `1` types of chest pain.\n",
        "\n",
        "Then, fit a Logistic Regression to predict between the two groups, and report the **ROC-AUC**.  \n",
        "\n",
        "Repeat comparing category `0` to `2` and `3`.  Which pair was the OvO approach best at distinguishing?"
      ]
    },
    {
      "cell_type": "code",
      "execution_count": 47,
      "metadata": {
        "id": "mJBS0kMoT52P"
      },
      "outputs": [],
      "source": [
        "# Create new dataset with only the 0 and 1 types of chest pain\n",
        "ha_new = ha[(ha[\"cp\"] == \"0\") | (ha[\"cp\"] == \"1\")]"
      ]
    },
    {
      "cell_type": "code",
      "execution_count": 48,
      "metadata": {
        "colab": {
          "base_uri": "https://localhost:8080/"
        },
        "id": "2_CXXKkHUBZn",
        "outputId": "28a24c9c-5596-4664-e616-13e18e976fce"
      },
      "outputs": [
        {
          "data": {
            "text/plain": [
              "0.6623931623931624"
            ]
          },
          "execution_count": null,
          "metadata": {},
          "output_type": "execute_result"
        }
      ],
      "source": [
        "# Fit logistic regression on dataset with 0 and 1 types of cp\n",
        "y = ha_new[\"cp\"]\n",
        "X = ha_new[[\"age\", \"sex\", \"trtbps\", \"chol\", \"restecg\", \"thalach\", \"output\"]]\n",
        "X_train, X_test, y_train, y_test = train_test_split(X, y, test_size=0.2, random_state=42, stratify=y)\n",
        "\n",
        "log_reg_pipeline = Pipeline(\n",
        "    [(\"preprocessing\", ct),\n",
        "     (\"log_reg\", LogisticRegression(random_state=42))]\n",
        ")\n",
        "\n",
        "log_reg_fit = log_reg_pipeline.fit(X_train, y_train)\n",
        "log_reg_preds = log_reg_fit.predict(X_test)\n",
        "\n",
        "# Get ROC-AUC score\n",
        "roc_auc_score(y_test, log_reg_preds)"
      ]
    },
    {
      "cell_type": "code",
      "execution_count": 49,
      "metadata": {
        "id": "hCOxXLDSqucs"
      },
      "outputs": [],
      "source": [
        "# Create new dataset with only the 0 and 2 types of chest pain\n",
        "ha_new_2 = ha[(ha[\"cp\"] == \"0\") | (ha[\"cp\"] == \"2\")]"
      ]
    },
    {
      "cell_type": "code",
      "execution_count": 50,
      "metadata": {
        "colab": {
          "base_uri": "https://localhost:8080/"
        },
        "id": "VhXAjDnjrW53",
        "outputId": "58572918-71bc-4581-ded1-0bd7c92ba723"
      },
      "outputs": [
        {
          "data": {
            "text/plain": [
              "0.8028846153846155"
            ]
          },
          "execution_count": null,
          "metadata": {},
          "output_type": "execute_result"
        }
      ],
      "source": [
        "# Fit logistic regression on dataset with 0 and 2 types of cp\n",
        "y = ha_new_2[\"cp\"]\n",
        "X = ha_new_2[[\"age\", \"sex\", \"trtbps\", \"chol\", \"restecg\", \"thalach\", \"output\"]]\n",
        "X_train, X_test, y_train, y_test = train_test_split(X, y, test_size=0.2, random_state=42, stratify=y)\n",
        "\n",
        "log_reg_pipeline = Pipeline(\n",
        "    [(\"preprocessing\", ct),\n",
        "     (\"log_reg\", LogisticRegression(random_state=42))]\n",
        ")\n",
        "\n",
        "log_reg_fit = log_reg_pipeline.fit(X_train, y_train)\n",
        "log_reg_preds = log_reg_fit.predict(X_test)\n",
        "\n",
        "# Get ROC-AUC score\n",
        "roc_auc_score(y_test, log_reg_preds)"
      ]
    },
    {
      "cell_type": "code",
      "execution_count": 51,
      "metadata": {
        "id": "ZhA2aiKhrzWc"
      },
      "outputs": [],
      "source": [
        "# Create new dataset with only the 0 and 3 types of chest pain\n",
        "ha_new_3 = ha[(ha[\"cp\"] == \"0\") | (ha[\"cp\"] == \"3\")]"
      ]
    },
    {
      "cell_type": "code",
      "execution_count": 52,
      "metadata": {
        "colab": {
          "base_uri": "https://localhost:8080/"
        },
        "id": "GeMN1ZB4r4lE",
        "outputId": "bfd684bb-f6bc-4c15-ab5f-33837faeb586"
      },
      "outputs": [
        {
          "data": {
            "text/plain": [
              "0.6057692307692307"
            ]
          },
          "execution_count": null,
          "metadata": {},
          "output_type": "execute_result"
        }
      ],
      "source": [
        "# Fit logistic regression on dataset with 0 and 3 types of cp\n",
        "y = ha_new_3[\"cp\"]\n",
        "X = ha_new_3[[\"age\", \"sex\", \"trtbps\", \"chol\", \"restecg\", \"thalach\", \"output\"]]\n",
        "X_train, X_test, y_train, y_test = train_test_split(X, y, test_size=0.2, random_state=42, stratify=y)\n",
        "\n",
        "log_reg_pipeline = Pipeline(\n",
        "    [(\"preprocessing\", ct),\n",
        "     (\"log_reg\", LogisticRegression(random_state=42))]\n",
        ")\n",
        "\n",
        "log_reg_fit = log_reg_pipeline.fit(X_train, y_train)\n",
        "log_reg_preds = log_reg_fit.predict(X_test)\n",
        "\n",
        "# Get ROC-AUC score\n",
        "roc_auc_score(y_test, log_reg_preds)"
      ]
    },
    {
      "cell_type": "markdown",
      "metadata": {
        "id": "6mRN65LNsvaN"
      },
      "source": [
        "\n",
        "\n",
        "The OvO approach was most able to distinguish between **`cp==0` and `cp==2`**. This pair had the highest ROC-AUC score of roughly 0.8.\n",
        "\n"
      ]
    }
  ],
  "metadata": {
    "colab": {
      "provenance": []
    },
    "kernelspec": {
      "display_name": "Python 3",
      "name": "python3"
    },
    "language_info": {
      "name": "python"
    }
  },
  "nbformat": 4,
  "nbformat_minor": 0
}
