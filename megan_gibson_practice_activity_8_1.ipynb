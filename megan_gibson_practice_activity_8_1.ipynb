{
  "cells": [
    {
      "cell_type": "raw",
      "metadata": {
        "vscode": {
          "languageId": "raw"
        }
      },
      "source": [
        "---\n",
        "title: Palmer Penguins Modeling (Practice Activity 8.1)\n",
        "author: Megan Gibson\n",
        "format:\n",
        "    html:\n",
        "        toc: true\n",
        "        theme: default\n",
        "embed-resources: true\n",
        "---"
      ]
    },
    {
      "cell_type": "markdown",
      "metadata": {
        "id": "VeAOZxOcM0Vi"
      },
      "source": [
        "\n",
        "Import the Palmer Penguins dataset and print out the first few rows.\n",
        "\n",
        "Suppose we want to predict `bill_depth_mm` using the other variables in the dataset.\n",
        "\n",
        "**Dummify** all variables that require this."
      ]
    },
    {
      "cell_type": "code",
      "execution_count": 15,
      "metadata": {
        "colab": {
          "base_uri": "https://localhost:8080/",
          "height": 206
        },
        "id": "Bj_0VvPJMWyp",
        "outputId": "7227a86a-6012-4db1-8ec1-14300060ea14"
      },
      "outputs": [
        {
          "data": {
            "text/html": [
              "<div>\n",
              "<style scoped>\n",
              "    .dataframe tbody tr th:only-of-type {\n",
              "        vertical-align: middle;\n",
              "    }\n",
              "\n",
              "    .dataframe tbody tr th {\n",
              "        vertical-align: top;\n",
              "    }\n",
              "\n",
              "    .dataframe thead th {\n",
              "        text-align: right;\n",
              "    }\n",
              "</style>\n",
              "<table border=\"1\" class=\"dataframe\">\n",
              "  <thead>\n",
              "    <tr style=\"text-align: right;\">\n",
              "      <th></th>\n",
              "      <th>species</th>\n",
              "      <th>island</th>\n",
              "      <th>bill_length_mm</th>\n",
              "      <th>bill_depth_mm</th>\n",
              "      <th>flipper_length_mm</th>\n",
              "      <th>body_mass_g</th>\n",
              "      <th>sex</th>\n",
              "      <th>year</th>\n",
              "    </tr>\n",
              "  </thead>\n",
              "  <tbody>\n",
              "    <tr>\n",
              "      <th>0</th>\n",
              "      <td>Adelie</td>\n",
              "      <td>Torgersen</td>\n",
              "      <td>39.1</td>\n",
              "      <td>18.7</td>\n",
              "      <td>181.0</td>\n",
              "      <td>3750.0</td>\n",
              "      <td>male</td>\n",
              "      <td>2007</td>\n",
              "    </tr>\n",
              "    <tr>\n",
              "      <th>1</th>\n",
              "      <td>Adelie</td>\n",
              "      <td>Torgersen</td>\n",
              "      <td>39.5</td>\n",
              "      <td>17.4</td>\n",
              "      <td>186.0</td>\n",
              "      <td>3800.0</td>\n",
              "      <td>female</td>\n",
              "      <td>2007</td>\n",
              "    </tr>\n",
              "    <tr>\n",
              "      <th>2</th>\n",
              "      <td>Adelie</td>\n",
              "      <td>Torgersen</td>\n",
              "      <td>40.3</td>\n",
              "      <td>18.0</td>\n",
              "      <td>195.0</td>\n",
              "      <td>3250.0</td>\n",
              "      <td>female</td>\n",
              "      <td>2007</td>\n",
              "    </tr>\n",
              "    <tr>\n",
              "      <th>3</th>\n",
              "      <td>Adelie</td>\n",
              "      <td>Torgersen</td>\n",
              "      <td>NaN</td>\n",
              "      <td>NaN</td>\n",
              "      <td>NaN</td>\n",
              "      <td>NaN</td>\n",
              "      <td>NaN</td>\n",
              "      <td>2007</td>\n",
              "    </tr>\n",
              "    <tr>\n",
              "      <th>4</th>\n",
              "      <td>Adelie</td>\n",
              "      <td>Torgersen</td>\n",
              "      <td>36.7</td>\n",
              "      <td>19.3</td>\n",
              "      <td>193.0</td>\n",
              "      <td>3450.0</td>\n",
              "      <td>female</td>\n",
              "      <td>2007</td>\n",
              "    </tr>\n",
              "  </tbody>\n",
              "</table>\n",
              "</div>"
            ],
            "text/plain": [
              "  species     island  bill_length_mm  ...  body_mass_g     sex  year\n",
              "0  Adelie  Torgersen            39.1  ...       3750.0    male  2007\n",
              "1  Adelie  Torgersen            39.5  ...       3800.0  female  2007\n",
              "2  Adelie  Torgersen            40.3  ...       3250.0  female  2007\n",
              "3  Adelie  Torgersen             NaN  ...          NaN     NaN  2007\n",
              "4  Adelie  Torgersen            36.7  ...       3450.0  female  2007\n",
              "\n",
              "[5 rows x 8 columns]"
            ]
          },
          "execution_count": null,
          "metadata": {},
          "output_type": "execute_result"
        }
      ],
      "source": [
        "# Import dataset and print first few rows\n",
        "import pandas as pd\n",
        "from palmerpenguins import load_penguins\n",
        "penguins = load_penguins()\n",
        "penguins.head()"
      ]
    },
    {
      "cell_type": "code",
      "execution_count": 16,
      "metadata": {
        "colab": {
          "base_uri": "https://localhost:8080/",
          "height": 226
        },
        "id": "2YCuCtkKFsFG",
        "outputId": "3c9313b9-cebc-46bd-8eaf-a1cf038612b2"
      },
      "outputs": [
        {
          "data": {
            "text/html": [
              "<div>\n",
              "<style scoped>\n",
              "    .dataframe tbody tr th:only-of-type {\n",
              "        vertical-align: middle;\n",
              "    }\n",
              "\n",
              "    .dataframe tbody tr th {\n",
              "        vertical-align: top;\n",
              "    }\n",
              "\n",
              "    .dataframe thead th {\n",
              "        text-align: right;\n",
              "    }\n",
              "</style>\n",
              "<table border=\"1\" class=\"dataframe\">\n",
              "  <thead>\n",
              "    <tr style=\"text-align: right;\">\n",
              "      <th></th>\n",
              "      <th>bill_length_mm</th>\n",
              "      <th>bill_depth_mm</th>\n",
              "      <th>flipper_length_mm</th>\n",
              "      <th>body_mass_g</th>\n",
              "      <th>species_Adelie</th>\n",
              "      <th>species_Chinstrap</th>\n",
              "      <th>species_Gentoo</th>\n",
              "      <th>island_Biscoe</th>\n",
              "      <th>island_Dream</th>\n",
              "      <th>island_Torgersen</th>\n",
              "      <th>sex_female</th>\n",
              "      <th>sex_male</th>\n",
              "      <th>year_2007</th>\n",
              "      <th>year_2008</th>\n",
              "      <th>year_2009</th>\n",
              "    </tr>\n",
              "  </thead>\n",
              "  <tbody>\n",
              "    <tr>\n",
              "      <th>0</th>\n",
              "      <td>39.1</td>\n",
              "      <td>18.7</td>\n",
              "      <td>181.0</td>\n",
              "      <td>3750.0</td>\n",
              "      <td>1</td>\n",
              "      <td>0</td>\n",
              "      <td>0</td>\n",
              "      <td>0</td>\n",
              "      <td>0</td>\n",
              "      <td>1</td>\n",
              "      <td>0</td>\n",
              "      <td>1</td>\n",
              "      <td>1</td>\n",
              "      <td>0</td>\n",
              "      <td>0</td>\n",
              "    </tr>\n",
              "    <tr>\n",
              "      <th>1</th>\n",
              "      <td>39.5</td>\n",
              "      <td>17.4</td>\n",
              "      <td>186.0</td>\n",
              "      <td>3800.0</td>\n",
              "      <td>1</td>\n",
              "      <td>0</td>\n",
              "      <td>0</td>\n",
              "      <td>0</td>\n",
              "      <td>0</td>\n",
              "      <td>1</td>\n",
              "      <td>1</td>\n",
              "      <td>0</td>\n",
              "      <td>1</td>\n",
              "      <td>0</td>\n",
              "      <td>0</td>\n",
              "    </tr>\n",
              "    <tr>\n",
              "      <th>2</th>\n",
              "      <td>40.3</td>\n",
              "      <td>18.0</td>\n",
              "      <td>195.0</td>\n",
              "      <td>3250.0</td>\n",
              "      <td>1</td>\n",
              "      <td>0</td>\n",
              "      <td>0</td>\n",
              "      <td>0</td>\n",
              "      <td>0</td>\n",
              "      <td>1</td>\n",
              "      <td>1</td>\n",
              "      <td>0</td>\n",
              "      <td>1</td>\n",
              "      <td>0</td>\n",
              "      <td>0</td>\n",
              "    </tr>\n",
              "    <tr>\n",
              "      <th>4</th>\n",
              "      <td>36.7</td>\n",
              "      <td>19.3</td>\n",
              "      <td>193.0</td>\n",
              "      <td>3450.0</td>\n",
              "      <td>1</td>\n",
              "      <td>0</td>\n",
              "      <td>0</td>\n",
              "      <td>0</td>\n",
              "      <td>0</td>\n",
              "      <td>1</td>\n",
              "      <td>1</td>\n",
              "      <td>0</td>\n",
              "      <td>1</td>\n",
              "      <td>0</td>\n",
              "      <td>0</td>\n",
              "    </tr>\n",
              "    <tr>\n",
              "      <th>5</th>\n",
              "      <td>39.3</td>\n",
              "      <td>20.6</td>\n",
              "      <td>190.0</td>\n",
              "      <td>3650.0</td>\n",
              "      <td>1</td>\n",
              "      <td>0</td>\n",
              "      <td>0</td>\n",
              "      <td>0</td>\n",
              "      <td>0</td>\n",
              "      <td>1</td>\n",
              "      <td>0</td>\n",
              "      <td>1</td>\n",
              "      <td>1</td>\n",
              "      <td>0</td>\n",
              "      <td>0</td>\n",
              "    </tr>\n",
              "  </tbody>\n",
              "</table>\n",
              "</div>"
            ],
            "text/plain": [
              "   bill_length_mm  bill_depth_mm  ...  year_2008  year_2009\n",
              "0            39.1           18.7  ...          0          0\n",
              "1            39.5           17.4  ...          0          0\n",
              "2            40.3           18.0  ...          0          0\n",
              "4            36.7           19.3  ...          0          0\n",
              "5            39.3           20.6  ...          0          0\n",
              "\n",
              "[5 rows x 15 columns]"
            ]
          },
          "execution_count": null,
          "metadata": {},
          "output_type": "execute_result"
        }
      ],
      "source": [
        "# Drop NA's and dummify categorical variables\n",
        "penguins = penguins.dropna()\n",
        "penguins = pd.get_dummies(penguins, columns=[\"species\", \"island\", \"sex\", \"year\"]) # I am including year because I want to treat it as categorical\n",
        "\n",
        "# Let's change the boolean true/false outputs to 0's for false and 1's for true\n",
        "new_columns = [\"species_Adelie\", \"species_Chinstrap\", \"species_Gentoo\", \"island_Biscoe\", \"island_Dream\", \"island_Torgersen\", \"sex_female\", \"sex_male\", \"year_2007\", \"year_2008\", \"year_2009\"]\n",
        "penguins[new_columns] = penguins[new_columns].astype(int)\n",
        "penguins.head()"
      ]
    },
    {
      "cell_type": "markdown",
      "metadata": {
        "id": "CXmaqajAchqz"
      },
      "source": [
        "Let's use the other variables to predict `bill_depth_mm`. Prepare your data and fit the following models on the entire dataset:\n",
        "\n",
        "* Your best multiple linear regression model from before\n",
        "* Two kNN models (for different values of K)\n",
        "* A decision tree model\n",
        "\n",
        "Create a plot like the right plot of Fig 1. in our `Model Validation` chapter with the training and test error plotted for each of your four models.\n",
        "\n",
        "Which of your models was best?"
      ]
    },
    {
      "cell_type": "code",
      "execution_count": 17,
      "metadata": {
        "id": "R3MYBNQmcyld"
      },
      "outputs": [],
      "source": [
        "# Best linear regression model from PA 6.2 (which had every possible predictor variable minus one reference variable for each categorical variable)\n",
        "from sklearn.linear_model import LinearRegression\n",
        "lr = LinearRegression()\n",
        "y = penguins[\"bill_depth_mm\"]\n",
        "X = penguins[[\"species_Adelie\", \"species_Chinstrap\", \"island_Biscoe\", \"island_Dream\", \"bill_length_mm\", \"flipper_length_mm\", \"body_mass_g\", \"sex_male\", \"year_2007\", \"year_2008\"]]\n",
        "lr_fit = lr.fit(X, y) # fit on entire dataset this time\n",
        "\n",
        "y_preds_lr = lr_fit.predict(X)"
      ]
    },
    {
      "cell_type": "code",
      "execution_count": 18,
      "metadata": {
        "id": "71Xp60DxIifI"
      },
      "outputs": [],
      "source": [
        "# kNN model with K=5\n",
        "from sklearn.pipeline import Pipeline\n",
        "from sklearn.preprocessing import StandardScaler\n",
        "from sklearn.compose import ColumnTransformer\n",
        "from sklearn.neighbors import KNeighborsRegressor\n",
        "\n",
        "ct = ColumnTransformer(\n",
        "  [\n",
        "    (\"standardize\", StandardScaler(), [\"bill_length_mm\", \"flipper_length_mm\", \"body_mass_g\"]) # a dummifying step is not needed here since the categorical variables have already been dummified\n",
        "  ],\n",
        "  remainder = \"passthrough\"\n",
        ")\n",
        "\n",
        "knn_regression_pipeline = Pipeline(\n",
        "  [(\"preprocessing\", ct),\n",
        "  (\"knn_regression\", KNeighborsRegressor(n_neighbors=5))]\n",
        ")\n",
        "\n",
        "# Fit on entire dataset\n",
        "knn_regression_pipeline_fitted = knn_regression_pipeline.fit(X, y)\n",
        "y_preds_knn = knn_regression_pipeline_fitted.predict(X)"
      ]
    },
    {
      "cell_type": "code",
      "execution_count": 19,
      "metadata": {
        "id": "OhtC3rmGKiur"
      },
      "outputs": [],
      "source": [
        "# kNN model with K=20\n",
        "\n",
        "knn_regression_pipeline_2 = Pipeline(\n",
        "  [(\"preprocessing\", ct),\n",
        "  (\"knn_regression\", KNeighborsRegressor(n_neighbors=20))]\n",
        ")\n",
        "\n",
        "# Fit on entire dataset\n",
        "knn_regression_pipeline_2_fitted = knn_regression_pipeline_2.fit(X, y)\n",
        "y_preds_knn_2 = knn_regression_pipeline_2_fitted.predict(X)"
      ]
    },
    {
      "cell_type": "code",
      "execution_count": 20,
      "metadata": {
        "id": "_G89P3xcbmfh"
      },
      "outputs": [],
      "source": [
        "# decision tree model with min_impurity_decrease = 0.01\n",
        "from sklearn.tree import DecisionTreeRegressor\n",
        "\n",
        "dt_regression_pipeline = Pipeline(\n",
        "  [(\"preprocessing\", ct),\n",
        "  (\"dt_regression\", DecisionTreeRegressor(min_impurity_decrease=0.01))]\n",
        ")\n",
        "\n",
        "# Fit on entire dataset\n",
        "dt_regression_pipeline_fitted = dt_regression_pipeline.fit(X, y)\n",
        "y_preds_dt = dt_regression_pipeline_fitted.predict(X)"
      ]
    },
    {
      "cell_type": "markdown",
      "metadata": {
        "id": "aKz7MEPJIrF-"
      },
      "source": [
        "# Create plot with training and test error for each model"
      ]
    },
    {
      "cell_type": "code",
      "execution_count": 21,
      "metadata": {
        "id": "OTejbhuCSQFJ"
      },
      "outputs": [],
      "source": [
        "# Split the data\n",
        "from sklearn.model_selection import train_test_split\n",
        "X_train, X_test, y_train, y_test = train_test_split(X, y, test_size=0.2, random_state=42)"
      ]
    },
    {
      "cell_type": "code",
      "execution_count": 22,
      "metadata": {
        "id": "MDqYM_4kKX-c"
      },
      "outputs": [],
      "source": [
        "# Fit models on training data\n",
        "lr_fit = lr.fit(X_train, y_train)\n",
        "knn_fit = knn_regression_pipeline.fit(X_train, y_train)\n",
        "knn_fit_2 = knn_regression_pipeline_2.fit(X_train, y_train)\n",
        "dt_fit = dt_regression_pipeline.fit(X_train, y_train)\n",
        "\n",
        "# Training predictions\n",
        "y_preds_lr_train = lr_fit.predict(X_train)\n",
        "y_preds_knn_train = knn_fit.predict(X_train)\n",
        "y_preds_knn_2_train = knn_fit_2.predict(X_train)\n",
        "y_preds_dt_train = dt_fit.predict(X_train)\n",
        "\n",
        "# Test predictions\n",
        "y_preds_lr_test = lr_fit.predict(X_test)\n",
        "y_preds_knn_test = knn_fit.predict(X_test)\n",
        "y_preds_knn_2_test = knn_fit_2.predict(X_test)\n",
        "y_preds_dt_test = dt_fit.predict(X_test)"
      ]
    },
    {
      "cell_type": "code",
      "execution_count": 23,
      "metadata": {
        "id": "Ws5Ee3uIMPqE"
      },
      "outputs": [],
      "source": [
        "# Calculate training and test errors for each of the four models\n",
        "from sklearn.metrics import mean_squared_error\n",
        "\n",
        "lr_train_error = mean_squared_error(y_train, y_preds_lr_train)\n",
        "lr_test_error = mean_squared_error(y_test, y_preds_lr_test)\n",
        "\n",
        "knn_train_error = mean_squared_error(y_train, y_preds_knn_train)\n",
        "knn_test_error = mean_squared_error(y_test, y_preds_knn_test)\n",
        "\n",
        "knn_2_train_error = mean_squared_error(y_train, y_preds_knn_2_train)\n",
        "knn_2_test_error = mean_squared_error(y_test, y_preds_knn_2_test)\n",
        "\n",
        "dt_train_error = mean_squared_error(y_train, y_preds_dt_train)\n",
        "dt_test_error = mean_squared_error(y_test, y_preds_dt_test)"
      ]
    },
    {
      "cell_type": "code",
      "execution_count": 24,
      "metadata": {
        "colab": {
          "base_uri": "https://localhost:8080/",
          "height": 175
        },
        "id": "IsX38mHqOw3e",
        "outputId": "0bdf8587-9585-4a69-cb58-a19d59c10dda"
      },
      "outputs": [
        {
          "data": {
            "text/html": [
              "<div>\n",
              "<style scoped>\n",
              "    .dataframe tbody tr th:only-of-type {\n",
              "        vertical-align: middle;\n",
              "    }\n",
              "\n",
              "    .dataframe tbody tr th {\n",
              "        vertical-align: top;\n",
              "    }\n",
              "\n",
              "    .dataframe thead th {\n",
              "        text-align: right;\n",
              "    }\n",
              "</style>\n",
              "<table border=\"1\" class=\"dataframe\">\n",
              "  <thead>\n",
              "    <tr style=\"text-align: right;\">\n",
              "      <th></th>\n",
              "      <th>model</th>\n",
              "      <th>train_mse</th>\n",
              "      <th>test_mse</th>\n",
              "    </tr>\n",
              "  </thead>\n",
              "  <tbody>\n",
              "    <tr>\n",
              "      <th>0</th>\n",
              "      <td>lr_model</td>\n",
              "      <td>0.522945</td>\n",
              "      <td>0.889200</td>\n",
              "    </tr>\n",
              "    <tr>\n",
              "      <th>1</th>\n",
              "      <td>knn_model</td>\n",
              "      <td>0.384792</td>\n",
              "      <td>0.821922</td>\n",
              "    </tr>\n",
              "    <tr>\n",
              "      <th>2</th>\n",
              "      <td>knn_2_model</td>\n",
              "      <td>0.538284</td>\n",
              "      <td>0.902873</td>\n",
              "    </tr>\n",
              "    <tr>\n",
              "      <th>3</th>\n",
              "      <td>dt_model</td>\n",
              "      <td>0.395882</td>\n",
              "      <td>0.887808</td>\n",
              "    </tr>\n",
              "  </tbody>\n",
              "</table>\n",
              "</div>"
            ],
            "text/plain": [
              "         model  train_mse  test_mse\n",
              "0     lr_model   0.522945  0.889200\n",
              "1    knn_model   0.384792  0.821922\n",
              "2  knn_2_model   0.538284  0.902873\n",
              "3     dt_model   0.395882  0.887808"
            ]
          },
          "execution_count": null,
          "metadata": {},
          "output_type": "execute_result"
        }
      ],
      "source": [
        "errors = pd.DataFrame({\"model\": [\"lr_model\", \"knn_model\", \"knn_2_model\", \"dt_model\"],\n",
        "                        \"train_mse\": [lr_train_error, knn_train_error, knn_2_train_error, dt_train_error],\n",
        "                        \"test_mse\": [lr_test_error, knn_test_error, knn_2_test_error, dt_test_error]})\n",
        "\n",
        "errors.head()"
      ]
    },
    {
      "cell_type": "code",
      "execution_count": 25,
      "metadata": {
        "colab": {
          "base_uri": "https://localhost:8080/",
          "height": 300
        },
        "id": "vmjW5ZbgQWyp",
        "outputId": "32259196-a6d7-4257-84a3-c391a642cd39"
      },
      "outputs": [
        {
          "data": {
            "text/html": [
              "<div>\n",
              "<style scoped>\n",
              "    .dataframe tbody tr th:only-of-type {\n",
              "        vertical-align: middle;\n",
              "    }\n",
              "\n",
              "    .dataframe tbody tr th {\n",
              "        vertical-align: top;\n",
              "    }\n",
              "\n",
              "    .dataframe thead th {\n",
              "        text-align: right;\n",
              "    }\n",
              "</style>\n",
              "<table border=\"1\" class=\"dataframe\">\n",
              "  <thead>\n",
              "    <tr style=\"text-align: right;\">\n",
              "      <th></th>\n",
              "      <th>model</th>\n",
              "      <th>type_of_error</th>\n",
              "      <th>mse</th>\n",
              "    </tr>\n",
              "  </thead>\n",
              "  <tbody>\n",
              "    <tr>\n",
              "      <th>0</th>\n",
              "      <td>lr_model</td>\n",
              "      <td>train_mse</td>\n",
              "      <td>0.522945</td>\n",
              "    </tr>\n",
              "    <tr>\n",
              "      <th>1</th>\n",
              "      <td>knn_model</td>\n",
              "      <td>train_mse</td>\n",
              "      <td>0.384792</td>\n",
              "    </tr>\n",
              "    <tr>\n",
              "      <th>2</th>\n",
              "      <td>knn_2_model</td>\n",
              "      <td>train_mse</td>\n",
              "      <td>0.538284</td>\n",
              "    </tr>\n",
              "    <tr>\n",
              "      <th>3</th>\n",
              "      <td>dt_model</td>\n",
              "      <td>train_mse</td>\n",
              "      <td>0.395882</td>\n",
              "    </tr>\n",
              "    <tr>\n",
              "      <th>4</th>\n",
              "      <td>lr_model</td>\n",
              "      <td>test_mse</td>\n",
              "      <td>0.889200</td>\n",
              "    </tr>\n",
              "    <tr>\n",
              "      <th>5</th>\n",
              "      <td>knn_model</td>\n",
              "      <td>test_mse</td>\n",
              "      <td>0.821922</td>\n",
              "    </tr>\n",
              "    <tr>\n",
              "      <th>6</th>\n",
              "      <td>knn_2_model</td>\n",
              "      <td>test_mse</td>\n",
              "      <td>0.902873</td>\n",
              "    </tr>\n",
              "    <tr>\n",
              "      <th>7</th>\n",
              "      <td>dt_model</td>\n",
              "      <td>test_mse</td>\n",
              "      <td>0.887808</td>\n",
              "    </tr>\n",
              "  </tbody>\n",
              "</table>\n",
              "</div>"
            ],
            "text/plain": [
              "         model type_of_error       mse\n",
              "0     lr_model     train_mse  0.522945\n",
              "1    knn_model     train_mse  0.384792\n",
              "2  knn_2_model     train_mse  0.538284\n",
              "3     dt_model     train_mse  0.395882\n",
              "4     lr_model      test_mse  0.889200\n",
              "5    knn_model      test_mse  0.821922\n",
              "6  knn_2_model      test_mse  0.902873\n",
              "7     dt_model      test_mse  0.887808"
            ]
          },
          "execution_count": null,
          "metadata": {},
          "output_type": "execute_result"
        }
      ],
      "source": [
        "# Melt data so that type of error and the errors themselves are separate columns\n",
        "errors_long = errors.melt(id_vars=[\"model\"], var_name=\"type_of_error\", value_name=\"mse\")\n",
        "errors_long"
      ]
    },
    {
      "cell_type": "code",
      "execution_count": 26,
      "metadata": {
        "colab": {
          "base_uri": "https://localhost:8080/",
          "height": 497
        },
        "id": "rCU0k47FPipn",
        "outputId": "894aeb80-a334-44af-87a8-ae0a0a2162b8"
      },
      "outputs": [
        {
          "data": {
            "image/png": "[encoded data removed]",
            "text/plain": [
              "<Figure size 640x480 with 1 Axes>"
            ]
          },
          "metadata": {},
          "output_type": "display_data"
        },
        {
          "data": {
            "text/plain": [
              "<Figure Size: (640 x 480)>"
            ]
          },
          "execution_count": null,
          "metadata": {},
          "output_type": "execute_result"
        }
      ],
      "source": [
        "from plotnine import *\n",
        "\n",
        "(ggplot(errors_long,\n",
        "aes(\n",
        "    x=\"model\",\n",
        "    y=\"mse\",\n",
        "    fill=\"type_of_error\"\n",
        "    ))\n",
        "+ geom_bar(stat=\"identity\", position=\"dodge\")\n",
        "+ labs(x=\"Model\", y=\"Mean Squared Error\", fill=\"Error Type\")\n",
        ")"
      ]
    },
    {
      "cell_type": "markdown",
      "metadata": {},
      "source": [
        "\n",
        "\n",
        "Based on the calculated MSE's and the above plot, **the KNN model with K=5 performed the best**. It has the lowest training MSE (0.38) out of all the models *and* the lowest test MSE out of all the models (0.82).\n",
        "\n"
      ]
    }
  ],
  "metadata": {
    "colab": {
      "provenance": []
    },
    "kernelspec": {
      "display_name": "Python 3",
      "name": "python3"
    },
    "language_info": {
      "name": "python"
    }
  },
  "nbformat": 4,
  "nbformat_minor": 0
}
